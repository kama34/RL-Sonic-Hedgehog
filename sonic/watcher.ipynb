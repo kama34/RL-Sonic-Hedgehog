{
 "cells": [
  {
   "cell_type": "code",
   "outputs": [],
   "source": [
    "from algos.preprocessing.stack_frame import preprocess_frame, stack_frame\n",
    "\n",
    "\n",
    "def stack_frames(frames, state, is_new=False):\n",
    "    frame = preprocess_frame(state, (1, -1, -1, 1), 84)\n",
    "    frames = stack_frame(frames, frame, is_new)\n",
    "\n",
    "    return frames"
   ],
   "metadata": {
    "collapsed": false,
    "ExecuteTime": {
     "end_time": "2024-05-01T15:53:58.794622Z",
     "start_time": "2024-05-01T15:53:58.612080Z"
    }
   },
   "id": "da6494f957a87754",
   "execution_count": 1
  },
  {
   "cell_type": "code",
   "outputs": [],
   "source": [
    "import numpy as np\n",
    "\n",
    "# Загрузка файла\n",
    "data = np.load('E:\\GitHub\\RL-Sonic-Hedgehog\\cgames\\\\05_sonic\\checkpoints\\ddqn\\scores\\scores_dqn17500.npy')\n",
    "\n",
    "# топ 10\n",
    "top_10 = np.partition(data, -10)[-10:]\n",
    "# индексы топа 10\n",
    "top_10_index = np.argpartition(data, -10)[-10:]\n",
    "\n",
    "# Создаем словарь\n",
    "top_dict = {index: value for index, value in zip(top_10_index, top_10)}\n",
    "\n",
    "# Сортируем словарь по значениям\n",
    "sorted_dict = dict(sorted(top_dict.items(), key=lambda item: item[1], reverse=True))"
   ],
   "metadata": {
    "collapsed": false,
    "ExecuteTime": {
     "end_time": "2024-05-01T15:53:58.811068Z",
     "start_time": "2024-05-01T15:53:58.795527Z"
    }
   },
   "id": "302a12885aec574f",
   "execution_count": 2
  },
  {
   "cell_type": "code",
   "outputs": [
    {
     "data": {
      "text/plain": "{16424: 9844.66667598486,\n 16043: 9841.388891994953,\n 15969: 9839.277720212936,\n 16647: 9831.999990046024,\n 15592: 9831.611122190952,\n 16321: 9815.499982714653,\n 15533: 9814.166658520699,\n 16242: 9808.944405019283,\n 16014: 9803.222198665142,\n 15869: 9798.888893723488}"
     },
     "execution_count": 3,
     "metadata": {},
     "output_type": "execute_result"
    }
   ],
   "source": [
    "sorted_dict"
   ],
   "metadata": {
    "collapsed": false,
    "ExecuteTime": {
     "end_time": "2024-05-01T15:54:00.062602Z",
     "start_time": "2024-05-01T15:54:00.047385Z"
    }
   },
   "id": "5a57b862808ec7e0",
   "execution_count": 3
  },
  {
   "cell_type": "code",
   "outputs": [
    {
     "data": {
      "text/plain": "5179.173696637154"
     },
     "execution_count": 4,
     "metadata": {},
     "output_type": "execute_result"
    }
   ],
   "source": [
    "data[256]"
   ],
   "metadata": {
    "collapsed": false,
    "ExecuteTime": {
     "end_time": "2024-05-01T15:54:00.344631Z",
     "start_time": "2024-05-01T15:54:00.335775Z"
    }
   },
   "id": "b0753e687c855de2",
   "execution_count": 4
  },
  {
   "cell_type": "code",
   "execution_count": 5,
   "id": "initial_id",
   "metadata": {
    "collapsed": true,
    "ExecuteTime": {
     "end_time": "2024-05-01T15:54:02.112521Z",
     "start_time": "2024-05-01T15:54:01.880113Z"
    }
   },
   "outputs": [
    {
     "ename": "RuntimeError",
     "evalue": "Could not load movie",
     "output_type": "error",
     "traceback": [
      "\u001B[1;31m---------------------------------------------------------------------------\u001B[0m",
      "\u001B[1;31mRuntimeError\u001B[0m                              Traceback (most recent call last)",
      "\u001B[1;32m~\\AppData\\Local\\Temp\\ipykernel_13924\\3723148918.py\u001B[0m in \u001B[0;36m<module>\u001B[1;34m\u001B[0m\n\u001B[0;32m      2\u001B[0m \u001B[1;32mimport\u001B[0m \u001B[0mretro\u001B[0m\u001B[1;33m\u001B[0m\u001B[1;33m\u001B[0m\u001B[0m\n\u001B[0;32m      3\u001B[0m \u001B[1;33m\u001B[0m\u001B[0m\n\u001B[1;32m----> 4\u001B[1;33m \u001B[0mmovie\u001B[0m \u001B[1;33m=\u001B[0m \u001B[0mretro\u001B[0m\u001B[1;33m.\u001B[0m\u001B[0mMovie\u001B[0m\u001B[1;33m(\u001B[0m\u001B[1;34m'./record/SonicTheHedgehog-Genesis-GreenHillZone.Act1-016424.bk2'\u001B[0m\u001B[1;33m)\u001B[0m\u001B[1;33m\u001B[0m\u001B[1;33m\u001B[0m\u001B[0m\n\u001B[0m\u001B[0;32m      5\u001B[0m \u001B[1;31m# movie = retro.Movie('E:\\GitHub\\RL-Sonic-Hedgehog\\\\notes\\SonicTheHedgehog-Genesis-GreenHillZone.Act1-003145.bk2')\u001B[0m\u001B[1;33m\u001B[0m\u001B[1;33m\u001B[0m\u001B[1;33m\u001B[0m\u001B[0m\n\u001B[0;32m      6\u001B[0m \u001B[0mmovie\u001B[0m\u001B[1;33m.\u001B[0m\u001B[0mstep\u001B[0m\u001B[1;33m(\u001B[0m\u001B[1;33m)\u001B[0m\u001B[1;33m\u001B[0m\u001B[1;33m\u001B[0m\u001B[0m\n",
      "\u001B[1;31mRuntimeError\u001B[0m: Could not load movie"
     ]
    }
   ],
   "source": [
    "import time\n",
    "import retro\n",
    "\n",
    "movie = retro.Movie('./record/SonicTheHedgehog-Genesis-GreenHillZone.Act1-016424.bk2')\n",
    "# movie = retro.Movie('E:\\GitHub\\RL-Sonic-Hedgehog\\\\notes\\SonicTheHedgehog-Genesis-GreenHillZone.Act1-003145.bk2')\n",
    "movie.step()\n",
    "\n",
    "env = retro.make(\n",
    "    game=movie.get_game(),\n",
    "    state=None,\n",
    "    use_restricted_actions=retro.Actions.ALL,\n",
    "    players=movie.players,\n",
    ")\n",
    "env.initial_state = movie.get_state()\n",
    "env.reset()\n",
    "env.viewer = None\n",
    "state = stack_frames(None, env.reset(), True)\n",
    "\n",
    "while movie.step():\n",
    "    time.sleep(0.001)\n",
    "    env.render(close=False)\n",
    "\n",
    "    keys = []\n",
    "    for p in range(movie.players):\n",
    "        for i in range(env.num_buttons):\n",
    "            keys.append(movie.get_key(i, p))\n",
    "    next_state, reward, done, _ = env.step(keys)\n",
    "    state = stack_frames(state, next_state, False)\n",
    "    if done:\n",
    "        env.reset()\n",
    "        break\n",
    "env.render(close=True)\n",
    "env.close()"
   ]
  },
  {
   "cell_type": "code",
   "outputs": [],
   "source": [],
   "metadata": {
    "collapsed": false,
    "ExecuteTime": {
     "end_time": "2024-05-01T03:15:05.940699Z",
     "start_time": "2024-05-01T03:15:05.926020Z"
    }
   },
   "id": "e091426cb86b16ec",
   "execution_count": 5
  }
 ],
 "metadata": {
  "kernelspec": {
   "display_name": "Python 3",
   "language": "python",
   "name": "python3"
  },
  "language_info": {
   "codemirror_mode": {
    "name": "ipython",
    "version": 2
   },
   "file_extension": ".py",
   "mimetype": "text/x-python",
   "name": "python",
   "nbconvert_exporter": "python",
   "pygments_lexer": "ipython2",
   "version": "2.7.6"
  }
 },
 "nbformat": 4,
 "nbformat_minor": 5
}
