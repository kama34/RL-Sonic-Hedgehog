{
 "cells": [
  {
   "cell_type": "code",
   "outputs": [],
   "source": [
    "from algos.preprocessing.stack_frame import preprocess_frame, stack_frame\n",
    "\n",
    "\n",
    "def stack_frames(frames, state, is_new=False):\n",
    "    frame = preprocess_frame(state, (1, -1, -1, 1), 84)\n",
    "    frames = stack_frame(frames, frame, is_new)\n",
    "\n",
    "    return frames"
   ],
   "metadata": {
    "collapsed": false,
    "ExecuteTime": {
     "end_time": "2024-05-01T04:27:38.194589Z",
     "start_time": "2024-05-01T04:27:38.065495Z"
    }
   },
   "id": "da6494f957a87754",
   "execution_count": 1
  },
  {
   "cell_type": "code",
   "outputs": [],
   "source": [
    "import numpy as np\n",
    "\n",
    "# Загрузка файла\n",
    "data = np.load('E:\\GitHub\\RL-Sonic-Hedgehog\\cgames\\\\05_sonic\\checkpoints\\ddqn\\scores\\scores_dqn1900.npy')\n",
    "\n",
    "# топ 10\n",
    "top_10 = np.partition(data, -10)[-10:]\n",
    "# индексы топа 10\n",
    "top_10_index = np.argpartition(data, -10)[-10:]\n",
    "\n",
    "# Создаем словарь\n",
    "top_dict = {index: value for index, value in zip(top_10_index, top_10)}\n",
    "\n",
    "# Сортируем словарь по значениям\n",
    "sorted_dict = dict(sorted(top_dict.items(), key=lambda item: item[1], reverse=True))"
   ],
   "metadata": {
    "collapsed": false,
    "ExecuteTime": {
     "end_time": "2024-05-01T04:27:38.210254Z",
     "start_time": "2024-05-01T04:27:38.196649Z"
    }
   },
   "id": "302a12885aec574f",
   "execution_count": 2
  },
  {
   "cell_type": "code",
   "outputs": [
    {
     "data": {
      "text/plain": "{256: 5179.173696637154,\n 196: 5141.231033504009,\n 139: 5123.208258569241,\n 322: 5038.78582572937,\n 305: 4238.195612728596,\n 1654: 3618.781612098217,\n 240: 2827.6770758628845,\n 270: 2827.6770757436752,\n 315: 2827.6770756840706,\n 164: 2827.6770752072334}"
     },
     "execution_count": 3,
     "metadata": {},
     "output_type": "execute_result"
    }
   ],
   "source": [
    "sorted_dict"
   ],
   "metadata": {
    "collapsed": false,
    "ExecuteTime": {
     "end_time": "2024-05-01T04:27:38.225933Z",
     "start_time": "2024-05-01T04:27:38.211254Z"
    }
   },
   "id": "5a57b862808ec7e0",
   "execution_count": 3
  },
  {
   "cell_type": "code",
   "outputs": [
    {
     "data": {
      "text/plain": "5179.173696637154"
     },
     "execution_count": 4,
     "metadata": {},
     "output_type": "execute_result"
    }
   ],
   "source": [
    "data[256]"
   ],
   "metadata": {
    "collapsed": false,
    "ExecuteTime": {
     "end_time": "2024-05-01T04:27:38.242094Z",
     "start_time": "2024-05-01T04:27:38.227037Z"
    }
   },
   "id": "b0753e687c855de2",
   "execution_count": 4
  },
  {
   "cell_type": "markdown",
   "source": [
    "## Step 10: Watch a Smart Agent!"
   ],
   "metadata": {
    "collapsed": false
   },
   "id": "e1925d4b4290ffa5"
  },
  {
   "cell_type": "code",
   "outputs": [],
   "source": [
    "import retro"
   ],
   "metadata": {
    "collapsed": false,
    "ExecuteTime": {
     "end_time": "2024-05-01T04:27:38.367263Z",
     "start_time": "2024-05-01T04:27:38.244141Z"
    }
   },
   "id": "1c90746c1d10ce55",
   "execution_count": 5
  },
  {
   "cell_type": "code",
   "outputs": [
    {
     "name": "stdout",
     "output_type": "stream",
     "text": [
      "Device:  cpu\n"
     ]
    }
   ],
   "source": [
    "import torch\n",
    "\n",
    "# if gpu is to be used\n",
    "device = torch.device(\"cuda\" if torch.cuda.is_available() else \"cpu\")\n",
    "print(\"Device: \", device)"
   ],
   "metadata": {
    "collapsed": false,
    "ExecuteTime": {
     "end_time": "2024-05-01T04:27:39.243411Z",
     "start_time": "2024-05-01T04:27:38.369335Z"
    }
   },
   "id": "faf0b6552da750df",
   "execution_count": 6
  },
  {
   "cell_type": "code",
   "outputs": [
    {
     "data": {
      "text/plain": "[0, 592379725]"
     },
     "execution_count": 7,
     "metadata": {},
     "output_type": "execute_result"
    }
   ],
   "source": [
    "env = retro.make(game='SonicTheHedgehog-Genesis', state='LabyrinthZone.Act1', scenario='contest')\n",
    "env.seed(0)"
   ],
   "metadata": {
    "collapsed": false,
    "ExecuteTime": {
     "end_time": "2024-05-01T04:27:39.321324Z",
     "start_time": "2024-05-01T04:27:39.244441Z"
    }
   },
   "id": "f12bdce2c9319ab7",
   "execution_count": 7
  },
  {
   "cell_type": "code",
   "outputs": [],
   "source": [
    "possible_actions = {\n",
    "    # No Operation\n",
    "    0: [0, 0, 0, 0, 0, 0, 0, 0, 0, 0, 0, 0],\n",
    "    # Left\n",
    "    1: [0, 0, 0, 0, 0, 0, 1, 0, 0, 0, 0, 0],\n",
    "    # Right\n",
    "    2: [0, 0, 0, 0, 0, 0, 0, 1, 0, 0, 0, 0],\n",
    "    # Left, Down\n",
    "    3: [0, 0, 0, 0, 0, 1, 1, 0, 0, 0, 0, 0],\n",
    "    # Right, Down\n",
    "    4: [0, 0, 0, 0, 0, 1, 0, 1, 0, 0, 0, 0],\n",
    "    # Down\n",
    "    5: [0, 0, 0, 0, 0, 1, 0, 0, 0, 0, 0, 0],\n",
    "    # Down, B\n",
    "    6: [1, 0, 0, 0, 0, 1, 0, 0, 0, 0, 0, 0],\n",
    "    # B\n",
    "    7: [1, 0, 0, 0, 0, 0, 0, 0, 0, 0, 0, 0]\n",
    "}"
   ],
   "metadata": {
    "collapsed": false,
    "ExecuteTime": {
     "end_time": "2024-05-01T04:27:39.336779Z",
     "start_time": "2024-05-01T04:27:39.322335Z"
    }
   },
   "id": "97f73d753f30dfb",
   "execution_count": 8
  },
  {
   "cell_type": "code",
   "outputs": [],
   "source": [
    "from algos.models import DDQNCnn\n",
    "from algos.agents import DDQNAgent\n",
    "\n",
    "INPUT_SHAPE = (4, 84, 84)\n",
    "ACTION_SIZE = len(possible_actions)\n",
    "SEED = 0\n",
    "GAMMA = 0.99           # discount factor\n",
    "BUFFER_SIZE = 100000   # replay buffer size\n",
    "BATCH_SIZE = 32        # Update batch size\n",
    "LR = 0.0001            # learning rate \n",
    "TAU = 1e-3             # for soft update of target parameters\n",
    "UPDATE_EVERY = 100     # how often to update the network\n",
    "UPDATE_TARGET = 10000  # After which thershold replay to be started \n",
    "EPS_START = 0.99       # starting value of epsilon\n",
    "EPS_END = 0.01         # Ending value of epsilon\n",
    "EPS_DECAY = 100         # Rate by which epsilon to be decayed\n",
    "\n",
    "agent = DDQNAgent(INPUT_SHAPE, ACTION_SIZE, SEED, device, BUFFER_SIZE, BATCH_SIZE, GAMMA, LR, TAU, UPDATE_EVERY, UPDATE_TARGET, DDQNCnn)"
   ],
   "metadata": {
    "collapsed": false,
    "ExecuteTime": {
     "end_time": "2024-05-01T04:27:39.399357Z",
     "start_time": "2024-05-01T04:27:39.337831Z"
    }
   },
   "id": "b8beea91b5f92994",
   "execution_count": 9
  },
  {
   "cell_type": "code",
   "outputs": [
    {
     "data": {
      "text/plain": "<All keys matched successfully>"
     },
     "execution_count": 10,
     "metadata": {},
     "output_type": "execute_result"
    }
   ],
   "source": [
    "# Загружаем веса в сети политики и цели\n",
    "agent.policy_net.load_state_dict(torch.load('./checkpoints/ddqn/policy_model/checkpoint_dqn_5000.pth'))\n",
    "agent.target_net.load_state_dict(torch.load('./checkpoints/ddqn/target_model/checkpoint_dqn_5000.pth'))"
   ],
   "metadata": {
    "collapsed": false,
    "ExecuteTime": {
     "end_time": "2024-05-01T04:27:39.430651Z",
     "start_time": "2024-05-01T04:27:39.400398Z"
    }
   },
   "id": "7d0ecb99caf3b546",
   "execution_count": 10
  },
  {
   "cell_type": "code",
   "outputs": [
    {
     "data": {
      "text/plain": "[<matplotlib.lines.Line2D at 0x2000a1e0bc8>]"
     },
     "execution_count": 11,
     "metadata": {},
     "output_type": "execute_result"
    },
    {
     "data": {
      "text/plain": "<Figure size 640x480 with 1 Axes>",
      "image/png": "[encoded data removed]"
     },
     "metadata": {},
     "output_type": "display_data"
    }
   ],
   "source": [
    "import math\n",
    "from matplotlib import pyplot as plt\n",
    "EPS_START = 0.99       # starting value of epsilon\n",
    "EPS_END = 0.01         # Ending value of epsilon\n",
    "EPS_DECAY = 1000\n",
    "epsilon_by_epsiode = lambda frame_idx: EPS_END + (EPS_START - EPS_END) * math.exp(-1. * frame_idx /EPS_DECAY)\n",
    "\n",
    "plt.plot([epsilon_by_epsiode(i) for i in range(10000)])"
   ],
   "metadata": {
    "collapsed": false,
    "ExecuteTime": {
     "end_time": "2024-05-01T04:27:40.102399Z",
     "start_time": "2024-05-01T04:27:39.431677Z"
    }
   },
   "id": "cd6a6e8df31626bb",
   "execution_count": 11
  },
  {
   "cell_type": "code",
   "outputs": [],
   "source": [
    "import time\n",
    "\n",
    "env.viewer = None\n",
    "# watch an untrained agent\n",
    "state = stack_frames(None, env.reset(), True)\n",
    "# for j in range(100000):\n",
    "while True:\n",
    "    time.sleep(0.001)\n",
    "    env.render(close=False)\n",
    "    action = agent.act(state, eps=epsilon_by_epsiode(5000))\n",
    "    next_state, reward, done, _ = env.step(possible_actions[action])\n",
    "    state = stack_frames(state, next_state, False)\n",
    "    if done:\n",
    "        env.reset()\n",
    "        break\n",
    "env.render(close=True)"
   ],
   "metadata": {
    "collapsed": false,
    "ExecuteTime": {
     "end_time": "2024-05-01T04:27:58.237054Z",
     "start_time": "2024-05-01T04:27:40.103401Z"
    }
   },
   "id": "e15e2ee93f5f4f31",
   "execution_count": 12
  },
  {
   "cell_type": "code",
   "outputs": [
    {
     "data": {
      "text/plain": "0.016603188059103758"
     },
     "execution_count": 13,
     "metadata": {},
     "output_type": "execute_result"
    }
   ],
   "source": [
    "epsilon_by_epsiode(5000)"
   ],
   "metadata": {
    "collapsed": false,
    "ExecuteTime": {
     "end_time": "2024-05-01T04:27:58.252674Z",
     "start_time": "2024-05-01T04:27:58.239099Z"
    }
   },
   "id": "ae1dbbc94e34af76",
   "execution_count": 13
  },
  {
   "cell_type": "code",
   "execution_count": 14,
   "id": "initial_id",
   "metadata": {
    "collapsed": true,
    "ExecuteTime": {
     "end_time": "2024-05-01T04:27:58.268545Z",
     "start_time": "2024-05-01T04:27:58.254775Z"
    }
   },
   "outputs": [],
   "source": [
    "# import time\n",
    "# import retro\n",
    "# \n",
    "# movie = retro.Movie('./record/SonicTheHedgehog-Genesis-GreenHillZone.Act1-000139.bk2')\n",
    "# movie.step()\n",
    "# \n",
    "# env = retro.make(\n",
    "#     game=movie.get_game(),\n",
    "#     state='GreenHillZone.Act1',\n",
    "#     use_restricted_actions=retro.Actions.ALL,\n",
    "#     players=movie.players,\n",
    "# )\n",
    "# env.initial_state = movie.get_state()\n",
    "# env.reset()\n",
    "# env.viewer = None\n",
    "# state = stack_frames(None, env.reset(), True)\n",
    "# \n",
    "# while movie.step():\n",
    "#     time.sleep(0.001)\n",
    "#     env.render(close=False)\n",
    "# \n",
    "#     keys = []\n",
    "#     for p in range(movie.players):\n",
    "#         for i in range(env.num_buttons):\n",
    "#             keys.append(movie.get_key(i, p))\n",
    "#     next_state, reward, done, _ = env.step(keys)\n",
    "#     state = stack_frames(state, next_state, False)\n",
    "#     if done:\n",
    "#         env.reset()\n",
    "#         break\n",
    "# env.render(close=True)\n",
    "# env.close()"
   ]
  },
  {
   "cell_type": "code",
   "outputs": [],
   "source": [],
   "metadata": {
    "collapsed": false,
    "ExecuteTime": {
     "end_time": "2024-05-01T04:27:58.284160Z",
     "start_time": "2024-05-01T04:27:58.269555Z"
    }
   },
   "id": "e091426cb86b16ec",
   "execution_count": 14
  }
 ],
 "metadata": {
  "kernelspec": {
   "display_name": "Python 3",
   "language": "python",
   "name": "python3"
  },
  "language_info": {
   "codemirror_mode": {
    "name": "ipython",
    "version": 2
   },
   "file_extension": ".py",
   "mimetype": "text/x-python",
   "name": "python",
   "nbconvert_exporter": "python",
   "pygments_lexer": "ipython2",
   "version": "2.7.6"
  }
 },
 "nbformat": 4,
 "nbformat_minor": 5
}
