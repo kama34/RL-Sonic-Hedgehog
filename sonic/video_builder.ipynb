{
 "cells": [
  {
   "cell_type": "code",
   "outputs": [],
   "source": [
    "import os\n",
    "import subprocess\n",
    "from concurrent.futures import ThreadPoolExecutor\n",
    "from tqdm import tqdm\n",
    "import numpy as np"
   ],
   "metadata": {
    "collapsed": false,
    "ExecuteTime": {
     "end_time": "2024-05-04T01:03:48.703975Z",
     "start_time": "2024-05-04T01:03:48.607640Z"
    }
   },
   "id": "ee0ccc5d7be2e68d",
   "execution_count": 1
  },
  {
   "cell_type": "code",
   "outputs": [],
   "source": [
    "def run_command(path):\n",
    "    try:\n",
    "        subprocess.run(['python', '-m', 'retro.scripts.playback_movie', path], timeout=20)\n",
    "    except subprocess.TimeoutExpired:\n",
    "        pass"
   ],
   "metadata": {
    "collapsed": false,
    "ExecuteTime": {
     "end_time": "2024-05-04T01:03:48.719510Z",
     "start_time": "2024-05-04T01:03:48.704984Z"
    }
   },
   "id": "9a89e81d0101c282",
   "execution_count": 2
  },
  {
   "cell_type": "code",
   "outputs": [],
   "source": [
    "def get_top(path_scores, path_record, top=None):\n",
    "    # Замените на путь к вашей папке\n",
    "    directory = path_record\n",
    "\n",
    "    if top is None:\n",
    "        files = [os.path.join(directory, f) for f in os.listdir(directory) if f.endswith('.bk2')]\n",
    "    else:\n",
    "        # Загрузка файла\n",
    "        data = np.load(path_scores)\n",
    "\n",
    "        # топ 100\n",
    "        top_100 = np.partition(data, -top)[-top:]\n",
    "        # индексы топа 10\n",
    "        top_100_index = np.argpartition(data, -top)[-top:]\n",
    "\n",
    "        # Создаем словарь\n",
    "        top_dict = {index + 6: value for index, value in zip(top_100_index, top_100)}\n",
    "\n",
    "        # Сортируем словарь по значениям\n",
    "        sorted_dict = dict(sorted(top_dict.items(), key=lambda item: item[1], reverse=True))\n",
    "\n",
    "        # Получаем список всех файлов .bk2\n",
    "        files = [os.path.join(directory, f) for f in os.listdir(directory) if f.endswith('.bk2')]\n",
    "\n",
    "        # Отфильтровываем список файлов, чтобы оставить только те, которые указаны в словаре sorted_dict\n",
    "        files = [f for f in files if int(os.path.splitext(os.path.basename(f))[0].split('-')[-1]) in sorted_dict.keys()]\n",
    "\n",
    "    return files"
   ],
   "metadata": {
    "collapsed": false,
    "ExecuteTime": {
     "end_time": "2024-05-04T01:04:43.849580Z",
     "start_time": "2024-05-04T01:04:43.829515Z"
    }
   },
   "id": "ff75a2a1a27b3b1c",
   "execution_count": 7
  },
  {
   "cell_type": "code",
   "outputs": [],
   "source": [
    "path_scores = 'E:\\GitHub\\RL-Sonic-Hedgehog\\sonic\\checkpoints\\dqn\\scores\\scores_dqn10000.npy'\n",
    "path_record = 'E:\\GitHub\\RL-Sonic-Hedgehog\\sonic\\\\record_dqn'\n",
    "\n",
    "files = get_top(path_scores, path_record, top=100)"
   ],
   "metadata": {
    "collapsed": false,
    "ExecuteTime": {
     "end_time": "2024-05-04T01:04:45.257661Z",
     "start_time": "2024-05-04T01:04:45.165032Z"
    }
   },
   "id": "e288d664bf87b4fc",
   "execution_count": 8
  },
  {
   "cell_type": "code",
   "outputs": [
    {
     "data": {
      "text/plain": "100"
     },
     "execution_count": 9,
     "metadata": {},
     "output_type": "execute_result"
    }
   ],
   "source": [
    "len(files)"
   ],
   "metadata": {
    "collapsed": false,
    "ExecuteTime": {
     "end_time": "2024-05-04T01:04:47.083026Z",
     "start_time": "2024-05-04T01:04:47.066795Z"
    }
   },
   "id": "8ff508d865514bab",
   "execution_count": 9
  },
  {
   "cell_type": "code",
   "outputs": [
    {
     "name": "stderr",
     "output_type": "stream",
     "text": [
      " 26%|██▌       | 26/100 [01:00<02:10,  1.77s/it]"
     ]
    }
   ],
   "source": [
    "# Запускаем команду для каждого файла\n",
    "with ThreadPoolExecutor(max_workers=10) as executor:\n",
    "    list(tqdm(executor.map(run_command, files), total=len(files)))"
   ],
   "metadata": {
    "collapsed": false,
    "is_executing": true,
    "ExecuteTime": {
     "start_time": "2024-05-04T01:05:19.019378Z"
    }
   },
   "id": "a4f0d9ccac6ff958",
   "execution_count": null
  },
  {
   "cell_type": "markdown",
   "source": [
    "```bash\n",
    "move .\\sonic\\record_ddqn\\*.mp4 .\\sonic\\record_ddqn\\video\\\n",
    "```"
   ],
   "metadata": {
    "collapsed": false
   },
   "id": "158922f476a65dee"
  },
  {
   "cell_type": "code",
   "outputs": [
    {
     "name": "stderr",
     "output_type": "stream",
     "text": [
      "  0%|          | 0/96 [00:00<?, ?it/s]\n"
     ]
    },
    {
     "ename": "PermissionError",
     "evalue": "[WinError 32] Процесс не может получить доступ к файлу, так как этот файл занят другим процессом: 'E:\\\\GitHub\\\\RL-Sonic-Hedgehog\\\\sonic\\\\record_ddqn\\\\SonicTheHedgehog-Genesis-GreenHillZone.Act1-015315.mp4' -> 'E:\\\\GitHub\\\\RL-Sonic-Hedgehog\\\\sonic\\\\record_ddqn\\\\video\\\\SonicTheHedgehog-Genesis-GreenHillZone.Act1-015315.mp4'",
     "output_type": "error",
     "traceback": [
      "\u001B[1;31m---------------------------------------------------------------------------\u001B[0m",
      "\u001B[1;31mPermissionError\u001B[0m                           Traceback (most recent call last)",
      "\u001B[1;32m~\\AppData\\Local\\Temp\\ipykernel_38680\\3329712193.py\u001B[0m in \u001B[0;36m<module>\u001B[1;34m\u001B[0m\n\u001B[0;32m      4\u001B[0m     \u001B[0mold_path\u001B[0m \u001B[1;33m=\u001B[0m \u001B[0mos\u001B[0m\u001B[1;33m.\u001B[0m\u001B[0mpath\u001B[0m\u001B[1;33m.\u001B[0m\u001B[0mjoin\u001B[0m\u001B[1;33m(\u001B[0m\u001B[0mpath_record\u001B[0m\u001B[1;33m,\u001B[0m \u001B[0mfile\u001B[0m\u001B[1;33m)\u001B[0m\u001B[1;33m\u001B[0m\u001B[1;33m\u001B[0m\u001B[0m\n\u001B[0;32m      5\u001B[0m     \u001B[0mnew_path\u001B[0m \u001B[1;33m=\u001B[0m \u001B[0mos\u001B[0m\u001B[1;33m.\u001B[0m\u001B[0mpath\u001B[0m\u001B[1;33m.\u001B[0m\u001B[0mjoin\u001B[0m\u001B[1;33m(\u001B[0m\u001B[0mpath_record\u001B[0m\u001B[1;33m,\u001B[0m \u001B[1;34m'video'\u001B[0m\u001B[1;33m,\u001B[0m \u001B[0mfile\u001B[0m\u001B[1;33m)\u001B[0m\u001B[1;33m\u001B[0m\u001B[1;33m\u001B[0m\u001B[0m\n\u001B[1;32m----> 6\u001B[1;33m     \u001B[0mos\u001B[0m\u001B[1;33m.\u001B[0m\u001B[0mrename\u001B[0m\u001B[1;33m(\u001B[0m\u001B[0mold_path\u001B[0m\u001B[1;33m,\u001B[0m \u001B[0mnew_path\u001B[0m\u001B[1;33m)\u001B[0m\u001B[1;33m\u001B[0m\u001B[1;33m\u001B[0m\u001B[0m\n\u001B[0m\u001B[0;32m      7\u001B[0m \u001B[1;33m\u001B[0m\u001B[0m\n",
      "\u001B[1;31mPermissionError\u001B[0m: [WinError 32] Процесс не может получить доступ к файлу, так как этот файл занят другим процессом: 'E:\\\\GitHub\\\\RL-Sonic-Hedgehog\\\\sonic\\\\record_ddqn\\\\SonicTheHedgehog-Genesis-GreenHillZone.Act1-015315.mp4' -> 'E:\\\\GitHub\\\\RL-Sonic-Hedgehog\\\\sonic\\\\record_ddqn\\\\video\\\\SonicTheHedgehog-Genesis-GreenHillZone.Act1-015315.mp4'"
     ]
    }
   ],
   "source": [
    "# # Перемещаем все файлы .mp4 в папку video\n",
    "# mp4_files = [f for f in os.listdir(path_record) if f.endswith('.mp4')]\n",
    "# for file in tqdm(mp4_files):\n",
    "#     old_path = os.path.join(path_record, file)\n",
    "#     new_path = os.path.join(path_record, 'video', file)\n",
    "#     os.rename(old_path, new_path)\n"
   ],
   "metadata": {
    "collapsed": false,
    "ExecuteTime": {
     "end_time": "2024-05-02T19:09:12.610775Z",
     "start_time": "2024-05-02T19:09:12.582696Z"
    }
   },
   "id": "87e27ce4caa044f",
   "execution_count": 6
  }
 ],
 "metadata": {
  "kernelspec": {
   "display_name": "Python 3",
   "language": "python",
   "name": "python3"
  },
  "language_info": {
   "codemirror_mode": {
    "name": "ipython",
    "version": 2
   },
   "file_extension": ".py",
   "mimetype": "text/x-python",
   "name": "python",
   "nbconvert_exporter": "python",
   "pygments_lexer": "ipython2",
   "version": "2.7.6"
  }
 },
 "nbformat": 4,
 "nbformat_minor": 5
}
