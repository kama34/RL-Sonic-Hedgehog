{
 "cells": [
  {
   "cell_type": "code",
   "execution_count": 1,
   "id": "initial_id",
   "metadata": {
    "collapsed": true,
    "ExecuteTime": {
     "end_time": "2024-05-02T18:31:47.875873Z",
     "start_time": "2024-05-02T18:31:47.868504Z"
    }
   },
   "outputs": [],
   "source": [
    "import os\n",
    "import subprocess"
   ]
  },
  {
   "cell_type": "code",
   "outputs": [],
   "source": [
    "import numpy as np\n",
    "\n",
    "# Загрузка файла\n",
    "data = np.load('E:\\GitHub\\RL-Sonic-Hedgehog\\sonic\\checkpoints\\ddqn\\scores\\scores_dqn20600.npy')\n",
    "\n",
    "# топ 100\n",
    "top_100 = np.partition(data, -100)[-100:]\n",
    "# индексы топа 10\n",
    "top_100_index = np.argpartition(data, -100)[-100:]\n",
    "\n",
    "# Создаем словарь\n",
    "top_dict = {index: value for index, value in zip(top_100_index, top_100)}\n",
    "\n",
    "# Сортируем словарь по значениям\n",
    "sorted_dict = dict(sorted(top_dict.items(), key=lambda item: item[1], reverse=True))"
   ],
   "metadata": {
    "collapsed": false,
    "ExecuteTime": {
     "end_time": "2024-05-02T18:31:47.986617Z",
     "start_time": "2024-05-02T18:31:47.877006Z"
    }
   },
   "id": "febf35fd16d9146a",
   "execution_count": 2
  },
  {
   "cell_type": "code",
   "outputs": [
    {
     "data": {
      "text/plain": "{19742: 9871.388917982578,\n 16424: 9844.66667598486,\n 16043: 9841.388891994953,\n 17922: 9840.277766048908,\n 15969: 9839.277720212936,\n 16647: 9831.999990046024,\n 15592: 9831.611122190952,\n 18271: 9829.222221672535,\n 18789: 9825.055531322956,\n 20563: 9816.388891994953,\n 16321: 9815.499982714653,\n 15533: 9814.166658520699,\n 18265: 9813.277758657932,\n 19318: 9812.77777069807,\n 19361: 9808.94444990158,\n 16242: 9808.944405019283,\n 20436: 9805.277766942978,\n 16014: 9803.222198665142,\n 15869: 9798.888893723488,\n 19687: 9797.66665905714,\n 16058: 9797.16669690609,\n 17698: 9796.000007212162,\n 15564: 9794.722234606743,\n 15979: 9784.111058056355,\n 16369: 9783.666645944118,\n 17498: 9782.611071646214,\n 18198: 9781.611074090004,\n 5086: 9780.999957323074,\n 19773: 9777.666682481766,\n 15851: 9773.111107170582,\n 17265: 9772.388886332512,\n 16565: 9772.333346545696,\n 16311: 9771.555563092232,\n 15947: 9765.3333132267,\n 18190: 9764.99995046854,\n 16868: 9764.722213506699,\n 20571: 9764.333294332027,\n 14431: 9763.94443064928,\n 18686: 9762.000007927418,\n 15067: 9759.444435834885,\n 18277: 9755.833343327045,\n 16006: 8394.81445235014,\n 19225: 8281.935077667236,\n 19284: 8271.500830173492,\n 16652: 8159.569989562035,\n 19222: 8127.3187093138695,\n 17263: 8109.295961737633,\n 18650: 8018.233575224876,\n 19248: 8018.233566880226,\n 16141: 8018.23356628418,\n 16225: 8018.233565092087,\n 16290: 8018.233563303947,\n 19244: 8018.2335631251335,\n 16279: 8018.233558952808,\n 16057: 8018.233558118343,\n 17993: 8018.23355025053,\n 16184: 7921.479770600796,\n 19233: 7741.252108812332,\n 17328: 7727.023590028286,\n 16233: 7709.949416816235,\n 20226: 7709.000865459442,\n 18022: 7706.1551399827,\n 15631: 7698.566598832607,\n 19232: 7695.720922291279,\n 18636: 7695.720922112465,\n 19231: 7695.720920145512,\n 19239: 7695.720919847488,\n 19224: 7695.720919787884,\n 15315: 7695.720919430256,\n 17983: 7695.720915615559,\n 15826: 7695.72091460228,\n 16374: 7695.720914006233,\n 16897: 7695.720913946629,\n 15601: 7695.720913827419,\n 19756: 7695.720912992954,\n 18760: 7695.720909416676,\n 16754: 7695.720908045769,\n 16332: 7695.720907211304,\n 19884: 7695.720906555653,\n 15646: 7695.720906317234,\n 15967: 7695.72090613842,\n 18770: 7695.720906019211,\n 19855: 7695.720905840397,\n 16466: 7695.720904529095,\n 17109: 7695.720903098583,\n 15555: 7695.720902502537,\n 19353: 7695.720899999142,\n 15782: 7695.720896422863,\n 15545: 7695.720895886421,\n 20494: 7695.720895349979,\n 15775: 7695.720894932747,\n 17035: 7695.720894694328,\n 15609: 7695.720893979073,\n 16119: 7695.720893919468,\n 18807: 7695.7208933234215,\n 20430: 7695.720893085003,\n 16519: 7695.720891535282,\n 20570: 7695.720889210701,\n 19721: 7694.7723561525345,\n 19229: 7694.772355616093}"
     },
     "execution_count": 4,
     "metadata": {},
     "output_type": "execute_result"
    }
   ],
   "source": [
    "sorted_dict"
   ],
   "metadata": {
    "collapsed": false,
    "ExecuteTime": {
     "end_time": "2024-05-02T18:31:51.107607Z",
     "start_time": "2024-05-02T18:31:51.099870Z"
    }
   },
   "id": "1e415673d20ca7e6",
   "execution_count": 4
  },
  {
   "cell_type": "code",
   "outputs": [],
   "source": [
    "# Замените на путь к вашей папке\n",
    "directory = 'E:\\GitHub\\RL-Sonic-Hedgehog\\sonic\\\\record_ddqn'"
   ],
   "metadata": {
    "collapsed": false,
    "ExecuteTime": {
     "end_time": "2024-05-02T18:31:48.001811Z",
     "start_time": "2024-05-02T18:31:47.987682Z"
    }
   },
   "id": "ad2834c292c3c0b1",
   "execution_count": 3
  },
  {
   "cell_type": "code",
   "outputs": [],
   "source": [
    "# Получаем список всех файлов .bk2\n",
    "files = [f for f in os.listdir(directory) if f.endswith('.bk2')]"
   ],
   "metadata": {
    "collapsed": false,
    "ExecuteTime": {
     "end_time": "2024-05-02T04:06:25.070294Z",
     "start_time": "2024-05-02T04:06:25.042754Z"
    }
   },
   "id": "3586bcbbcc39c6",
   "execution_count": 3
  },
  {
   "cell_type": "code",
   "outputs": [
    {
     "name": "stderr",
     "output_type": "stream",
     "text": [
      "  0%|          | 1/20608 [00:20<114:40:24, 20.03s/it]"
     ]
    },
    {
     "name": "stdout",
     "output_type": "stream",
     "text": [
      "Обработка файла E:\\GitHub\\RL-Sonic-Hedgehog\\cgames\\05_sonic\\record_ddqn\\SonicTheHedgehog-Genesis-GreenHillZone.Act1-000000.bk2 превысила установленное время.\n"
     ]
    },
    {
     "name": "stderr",
     "output_type": "stream",
     "text": [
      "  0%|          | 2/20608 [00:40<114:39:29, 20.03s/it]"
     ]
    },
    {
     "name": "stdout",
     "output_type": "stream",
     "text": [
      "Обработка файла E:\\GitHub\\RL-Sonic-Hedgehog\\cgames\\05_sonic\\record_ddqn\\SonicTheHedgehog-Genesis-GreenHillZone.Act1-000001.bk2 превысила установленное время.\n"
     ]
    },
    {
     "name": "stderr",
     "output_type": "stream",
     "text": [
      "  0%|          | 4/20608 [01:01<85:53:10, 15.01s/it] "
     ]
    },
    {
     "name": "stdout",
     "output_type": "stream",
     "text": [
      "Обработка файла E:\\GitHub\\RL-Sonic-Hedgehog\\cgames\\05_sonic\\record_ddqn\\SonicTheHedgehog-Genesis-GreenHillZone.Act1-000003.bk2 превысила установленное время.\n"
     ]
    },
    {
     "name": "stderr",
     "output_type": "stream",
     "text": [
      "  0%|          | 5/20608 [01:21<96:14:55, 16.82s/it]"
     ]
    },
    {
     "name": "stdout",
     "output_type": "stream",
     "text": [
      "Обработка файла E:\\GitHub\\RL-Sonic-Hedgehog\\cgames\\05_sonic\\record_ddqn\\SonicTheHedgehog-Genesis-GreenHillZone.Act1-000004.bk2 превысила установленное время.\n"
     ]
    },
    {
     "name": "stderr",
     "output_type": "stream",
     "text": [
      "  0%|          | 6/20608 [01:42<102:30:05, 17.91s/it]"
     ]
    },
    {
     "name": "stdout",
     "output_type": "stream",
     "text": [
      "Обработка файла E:\\GitHub\\RL-Sonic-Hedgehog\\cgames\\05_sonic\\record_ddqn\\SonicTheHedgehog-Genesis-GreenHillZone.Act1-000005.bk2 превысила установленное время.\n"
     ]
    },
    {
     "name": "stderr",
     "output_type": "stream",
     "text": [
      "  0%|          | 8/20608 [02:04<87:09:53, 15.23s/it] "
     ]
    },
    {
     "name": "stdout",
     "output_type": "stream",
     "text": [
      "Обработка файла E:\\GitHub\\RL-Sonic-Hedgehog\\cgames\\05_sonic\\record_ddqn\\SonicTheHedgehog-Genesis-GreenHillZone.Act1-000007.bk2 превысила установленное время.\n"
     ]
    },
    {
     "name": "stderr",
     "output_type": "stream",
     "text": [
      "  0%|          | 10/20608 [02:29<81:55:46, 14.32s/it]"
     ]
    },
    {
     "name": "stdout",
     "output_type": "stream",
     "text": [
      "Обработка файла E:\\GitHub\\RL-Sonic-Hedgehog\\cgames\\05_sonic\\record_ddqn\\SonicTheHedgehog-Genesis-GreenHillZone.Act1-000009.bk2 превысила установленное время.\n"
     ]
    },
    {
     "name": "stderr",
     "output_type": "stream",
     "text": [
      "  0%|          | 12/20608 [02:50<76:32:08, 13.38s/it]"
     ]
    },
    {
     "name": "stdout",
     "output_type": "stream",
     "text": [
      "Обработка файла E:\\GitHub\\RL-Sonic-Hedgehog\\cgames\\05_sonic\\record_ddqn\\SonicTheHedgehog-Genesis-GreenHillZone.Act1-000011.bk2 превысила установленное время.\n"
     ]
    },
    {
     "name": "stderr",
     "output_type": "stream",
     "text": [
      "  0%|          | 14/20608 [03:12<74:00:12, 12.94s/it]"
     ]
    },
    {
     "name": "stdout",
     "output_type": "stream",
     "text": [
      "Обработка файла E:\\GitHub\\RL-Sonic-Hedgehog\\cgames\\05_sonic\\record_ddqn\\SonicTheHedgehog-Genesis-GreenHillZone.Act1-000013.bk2 превысила установленное время.\n"
     ]
    },
    {
     "name": "stderr",
     "output_type": "stream",
     "text": [
      "  0%|          | 16/20608 [03:34<72:49:54, 12.73s/it]"
     ]
    },
    {
     "name": "stdout",
     "output_type": "stream",
     "text": [
      "Обработка файла E:\\GitHub\\RL-Sonic-Hedgehog\\cgames\\05_sonic\\record_ddqn\\SonicTheHedgehog-Genesis-GreenHillZone.Act1-000015.bk2 превысила установленное время.\n"
     ]
    },
    {
     "name": "stderr",
     "output_type": "stream",
     "text": [
      "  0%|          | 18/20608 [03:56<72:20:00, 12.65s/it]"
     ]
    },
    {
     "name": "stdout",
     "output_type": "stream",
     "text": [
      "Обработка файла E:\\GitHub\\RL-Sonic-Hedgehog\\cgames\\05_sonic\\record_ddqn\\SonicTheHedgehog-Genesis-GreenHillZone.Act1-000017.bk2 превысила установленное время.\n"
     ]
    },
    {
     "name": "stderr",
     "output_type": "stream",
     "text": [
      "  0%|          | 20/20608 [04:18<72:01:08, 12.59s/it]"
     ]
    },
    {
     "name": "stdout",
     "output_type": "stream",
     "text": [
      "Обработка файла E:\\GitHub\\RL-Sonic-Hedgehog\\cgames\\05_sonic\\record_ddqn\\SonicTheHedgehog-Genesis-GreenHillZone.Act1-000019.bk2 превысила установленное время.\n"
     ]
    },
    {
     "name": "stderr",
     "output_type": "stream",
     "text": [
      "  0%|          | 22/20608 [04:40<72:26:59, 12.67s/it]"
     ]
    },
    {
     "name": "stdout",
     "output_type": "stream",
     "text": [
      "Обработка файла E:\\GitHub\\RL-Sonic-Hedgehog\\cgames\\05_sonic\\record_ddqn\\SonicTheHedgehog-Genesis-GreenHillZone.Act1-000021.bk2 превысила установленное время.\n"
     ]
    },
    {
     "name": "stderr",
     "output_type": "stream",
     "text": [
      "  1%|▏         | 303/20608 [32:56<36:47:22,  6.52s/it]\n"
     ]
    },
    {
     "ename": "KeyboardInterrupt",
     "evalue": "",
     "output_type": "error",
     "traceback": [
      "\u001B[1;31m---------------------------------------------------------------------------\u001B[0m",
      "\u001B[1;31mKeyboardInterrupt\u001B[0m                         Traceback (most recent call last)",
      "\u001B[1;32m~\\AppData\\Local\\Temp\\ipykernel_18128\\4080658688.py\u001B[0m in \u001B[0;36m<module>\u001B[1;34m\u001B[0m\n\u001B[0;32m      5\u001B[0m     \u001B[0mpath\u001B[0m \u001B[1;33m=\u001B[0m \u001B[0mos\u001B[0m\u001B[1;33m.\u001B[0m\u001B[0mpath\u001B[0m\u001B[1;33m.\u001B[0m\u001B[0mjoin\u001B[0m\u001B[1;33m(\u001B[0m\u001B[0mdirectory\u001B[0m\u001B[1;33m,\u001B[0m \u001B[0mfile\u001B[0m\u001B[1;33m)\u001B[0m\u001B[1;33m\u001B[0m\u001B[1;33m\u001B[0m\u001B[0m\n\u001B[0;32m      6\u001B[0m     \u001B[1;32mtry\u001B[0m\u001B[1;33m:\u001B[0m\u001B[1;33m\u001B[0m\u001B[1;33m\u001B[0m\u001B[0m\n\u001B[1;32m----> 7\u001B[1;33m         \u001B[0msubprocess\u001B[0m\u001B[1;33m.\u001B[0m\u001B[0mrun\u001B[0m\u001B[1;33m(\u001B[0m\u001B[1;33m[\u001B[0m\u001B[1;34m'python'\u001B[0m\u001B[1;33m,\u001B[0m \u001B[1;34m'-m'\u001B[0m\u001B[1;33m,\u001B[0m \u001B[1;34m'retro.scripts.playback_movie'\u001B[0m\u001B[1;33m,\u001B[0m \u001B[0mpath\u001B[0m\u001B[1;33m]\u001B[0m\u001B[1;33m,\u001B[0m \u001B[0mtimeout\u001B[0m\u001B[1;33m=\u001B[0m\u001B[1;36m20\u001B[0m\u001B[1;33m)\u001B[0m\u001B[1;33m\u001B[0m\u001B[1;33m\u001B[0m\u001B[0m\n\u001B[0m\u001B[0;32m      8\u001B[0m     \u001B[1;32mexcept\u001B[0m \u001B[0msubprocess\u001B[0m\u001B[1;33m.\u001B[0m\u001B[0mTimeoutExpired\u001B[0m\u001B[1;33m:\u001B[0m\u001B[1;33m\u001B[0m\u001B[1;33m\u001B[0m\u001B[0m\n\u001B[0;32m      9\u001B[0m         \u001B[0mprint\u001B[0m\u001B[1;33m(\u001B[0m\u001B[1;34mf\"Обработка файла {path} превысила установленное время.\"\u001B[0m\u001B[1;33m)\u001B[0m\u001B[1;33m\u001B[0m\u001B[1;33m\u001B[0m\u001B[0m\n",
      "\u001B[1;32m~\\anaconda3\\envs\\RL-conda\\lib\\subprocess.py\u001B[0m in \u001B[0;36mrun\u001B[1;34m(input, capture_output, timeout, check, *popenargs, **kwargs)\u001B[0m\n\u001B[0;32m    488\u001B[0m     \u001B[1;32mwith\u001B[0m \u001B[0mPopen\u001B[0m\u001B[1;33m(\u001B[0m\u001B[1;33m*\u001B[0m\u001B[0mpopenargs\u001B[0m\u001B[1;33m,\u001B[0m \u001B[1;33m**\u001B[0m\u001B[0mkwargs\u001B[0m\u001B[1;33m)\u001B[0m \u001B[1;32mas\u001B[0m \u001B[0mprocess\u001B[0m\u001B[1;33m:\u001B[0m\u001B[1;33m\u001B[0m\u001B[1;33m\u001B[0m\u001B[0m\n\u001B[0;32m    489\u001B[0m         \u001B[1;32mtry\u001B[0m\u001B[1;33m:\u001B[0m\u001B[1;33m\u001B[0m\u001B[1;33m\u001B[0m\u001B[0m\n\u001B[1;32m--> 490\u001B[1;33m             \u001B[0mstdout\u001B[0m\u001B[1;33m,\u001B[0m \u001B[0mstderr\u001B[0m \u001B[1;33m=\u001B[0m \u001B[0mprocess\u001B[0m\u001B[1;33m.\u001B[0m\u001B[0mcommunicate\u001B[0m\u001B[1;33m(\u001B[0m\u001B[0minput\u001B[0m\u001B[1;33m,\u001B[0m \u001B[0mtimeout\u001B[0m\u001B[1;33m=\u001B[0m\u001B[0mtimeout\u001B[0m\u001B[1;33m)\u001B[0m\u001B[1;33m\u001B[0m\u001B[1;33m\u001B[0m\u001B[0m\n\u001B[0m\u001B[0;32m    491\u001B[0m         \u001B[1;32mexcept\u001B[0m \u001B[0mTimeoutExpired\u001B[0m \u001B[1;32mas\u001B[0m \u001B[0mexc\u001B[0m\u001B[1;33m:\u001B[0m\u001B[1;33m\u001B[0m\u001B[1;33m\u001B[0m\u001B[0m\n\u001B[0;32m    492\u001B[0m             \u001B[0mprocess\u001B[0m\u001B[1;33m.\u001B[0m\u001B[0mkill\u001B[0m\u001B[1;33m(\u001B[0m\u001B[1;33m)\u001B[0m\u001B[1;33m\u001B[0m\u001B[1;33m\u001B[0m\u001B[0m\n",
      "\u001B[1;32m~\\anaconda3\\envs\\RL-conda\\lib\\subprocess.py\u001B[0m in \u001B[0;36mcommunicate\u001B[1;34m(self, input, timeout)\u001B[0m\n\u001B[0;32m    981\u001B[0m                 \u001B[0mself\u001B[0m\u001B[1;33m.\u001B[0m\u001B[0m_communication_started\u001B[0m \u001B[1;33m=\u001B[0m \u001B[1;32mTrue\u001B[0m\u001B[1;33m\u001B[0m\u001B[1;33m\u001B[0m\u001B[0m\n\u001B[0;32m    982\u001B[0m \u001B[1;33m\u001B[0m\u001B[0m\n\u001B[1;32m--> 983\u001B[1;33m             \u001B[0msts\u001B[0m \u001B[1;33m=\u001B[0m \u001B[0mself\u001B[0m\u001B[1;33m.\u001B[0m\u001B[0mwait\u001B[0m\u001B[1;33m(\u001B[0m\u001B[0mtimeout\u001B[0m\u001B[1;33m=\u001B[0m\u001B[0mself\u001B[0m\u001B[1;33m.\u001B[0m\u001B[0m_remaining_time\u001B[0m\u001B[1;33m(\u001B[0m\u001B[0mendtime\u001B[0m\u001B[1;33m)\u001B[0m\u001B[1;33m)\u001B[0m\u001B[1;33m\u001B[0m\u001B[1;33m\u001B[0m\u001B[0m\n\u001B[0m\u001B[0;32m    984\u001B[0m \u001B[1;33m\u001B[0m\u001B[0m\n\u001B[0;32m    985\u001B[0m         \u001B[1;32mreturn\u001B[0m \u001B[1;33m(\u001B[0m\u001B[0mstdout\u001B[0m\u001B[1;33m,\u001B[0m \u001B[0mstderr\u001B[0m\u001B[1;33m)\u001B[0m\u001B[1;33m\u001B[0m\u001B[1;33m\u001B[0m\u001B[0m\n",
      "\u001B[1;32m~\\anaconda3\\envs\\RL-conda\\lib\\subprocess.py\u001B[0m in \u001B[0;36mwait\u001B[1;34m(self, timeout)\u001B[0m\n\u001B[0;32m   1017\u001B[0m             \u001B[0mendtime\u001B[0m \u001B[1;33m=\u001B[0m \u001B[0m_time\u001B[0m\u001B[1;33m(\u001B[0m\u001B[1;33m)\u001B[0m \u001B[1;33m+\u001B[0m \u001B[0mtimeout\u001B[0m\u001B[1;33m\u001B[0m\u001B[1;33m\u001B[0m\u001B[0m\n\u001B[0;32m   1018\u001B[0m         \u001B[1;32mtry\u001B[0m\u001B[1;33m:\u001B[0m\u001B[1;33m\u001B[0m\u001B[1;33m\u001B[0m\u001B[0m\n\u001B[1;32m-> 1019\u001B[1;33m             \u001B[1;32mreturn\u001B[0m \u001B[0mself\u001B[0m\u001B[1;33m.\u001B[0m\u001B[0m_wait\u001B[0m\u001B[1;33m(\u001B[0m\u001B[0mtimeout\u001B[0m\u001B[1;33m=\u001B[0m\u001B[0mtimeout\u001B[0m\u001B[1;33m)\u001B[0m\u001B[1;33m\u001B[0m\u001B[1;33m\u001B[0m\u001B[0m\n\u001B[0m\u001B[0;32m   1020\u001B[0m         \u001B[1;32mexcept\u001B[0m \u001B[0mKeyboardInterrupt\u001B[0m\u001B[1;33m:\u001B[0m\u001B[1;33m\u001B[0m\u001B[1;33m\u001B[0m\u001B[0m\n\u001B[0;32m   1021\u001B[0m             \u001B[1;31m# https://bugs.python.org/issue25942\u001B[0m\u001B[1;33m\u001B[0m\u001B[1;33m\u001B[0m\u001B[1;33m\u001B[0m\u001B[0m\n",
      "\u001B[1;32m~\\anaconda3\\envs\\RL-conda\\lib\\subprocess.py\u001B[0m in \u001B[0;36m_wait\u001B[1;34m(self, timeout)\u001B[0m\n\u001B[0;32m   1257\u001B[0m                 \u001B[1;31m# API note: Returns immediately if timeout_millis == 0.\u001B[0m\u001B[1;33m\u001B[0m\u001B[1;33m\u001B[0m\u001B[1;33m\u001B[0m\u001B[0m\n\u001B[0;32m   1258\u001B[0m                 result = _winapi.WaitForSingleObject(self._handle,\n\u001B[1;32m-> 1259\u001B[1;33m                                                      timeout_millis)\n\u001B[0m\u001B[0;32m   1260\u001B[0m                 \u001B[1;32mif\u001B[0m \u001B[0mresult\u001B[0m \u001B[1;33m==\u001B[0m \u001B[0m_winapi\u001B[0m\u001B[1;33m.\u001B[0m\u001B[0mWAIT_TIMEOUT\u001B[0m\u001B[1;33m:\u001B[0m\u001B[1;33m\u001B[0m\u001B[1;33m\u001B[0m\u001B[0m\n\u001B[0;32m   1261\u001B[0m                     \u001B[1;32mraise\u001B[0m \u001B[0mTimeoutExpired\u001B[0m\u001B[1;33m(\u001B[0m\u001B[0mself\u001B[0m\u001B[1;33m.\u001B[0m\u001B[0margs\u001B[0m\u001B[1;33m,\u001B[0m \u001B[0mtimeout\u001B[0m\u001B[1;33m)\u001B[0m\u001B[1;33m\u001B[0m\u001B[1;33m\u001B[0m\u001B[0m\n",
      "\u001B[1;31mKeyboardInterrupt\u001B[0m: "
     ]
    }
   ],
   "source": [
    "from tqdm import tqdm\n",
    "error_file = []\n",
    "# Запускаем команду для каждого файла\n",
    "for file in tqdm(files):\n",
    "    path = os.path.join(directory, file)\n",
    "    try:\n",
    "        subprocess.run(['python', '-m', 'retro.scripts.playback_movie', path], timeout=20)\n",
    "    except subprocess.TimeoutExpired:\n",
    "        print(f\"Обработка файла {path} превысила установленное время.\")\n",
    "        error_file.append(file)\n"
   ],
   "metadata": {
    "collapsed": false,
    "ExecuteTime": {
     "end_time": "2024-05-02T04:39:22.805511Z",
     "start_time": "2024-05-02T04:06:26.285387Z"
    }
   },
   "id": "1284e33dd8359ba9",
   "execution_count": 4
  },
  {
   "cell_type": "code",
   "outputs": [],
   "source": [
    "len(error_file)"
   ],
   "metadata": {
    "collapsed": false
   },
   "id": "dc27b451ecd5a958"
  },
  {
   "cell_type": "code",
   "outputs": [],
   "source": [
    "from tqdm import tqdm\n",
    "error_file = []\n",
    "# Запускаем команду для каждого файла\n",
    "for file in tqdm(error_file):\n",
    "    path = os.path.join(directory, file)\n",
    "    try:\n",
    "        subprocess.run(['python', '-m', 'retro.scripts.playback_movie', path], timeout=60)\n",
    "    except subprocess.TimeoutExpired:\n",
    "        print(f\"Обработка файла {path} превысила установленное время.\")\n",
    "        error_file.append(path)\n"
   ],
   "metadata": {
    "collapsed": false
   },
   "id": "95b63bb40ae2690f"
  },
  {
   "cell_type": "code",
   "outputs": [],
   "source": [
    "len(error_file)"
   ],
   "metadata": {
    "collapsed": false
   },
   "id": "6ea85cac2b9d6ef5"
  },
  {
   "cell_type": "code",
   "outputs": [],
   "source": [
    "# Перемещаем все файлы .mp4 в папку video\n",
    "mp4_files = [f for f in os.listdir(directory) if f.endswith('.mp4')]\n",
    "for file in mp4_files:\n",
    "    old_path = os.path.join(directory, file)\n",
    "    new_path = os.path.join(directory, 'video', file)\n",
    "    os.rename(old_path, new_path)"
   ],
   "metadata": {
    "collapsed": false
   },
   "id": "b357059a753faee4"
  },
  {
   "cell_type": "markdown",
   "source": [
    "## Второй вариант"
   ],
   "metadata": {
    "collapsed": false
   },
   "id": "e14fee8d244f69bc"
  },
  {
   "cell_type": "code",
   "outputs": [],
   "source": [
    "import os\n",
    "import subprocess\n",
    "from concurrent.futures import ThreadPoolExecutor\n",
    "from tqdm import tqdm"
   ],
   "metadata": {
    "collapsed": false,
    "ExecuteTime": {
     "end_time": "2024-05-02T05:08:27.359906Z",
     "start_time": "2024-05-02T05:08:27.330788Z"
    }
   },
   "id": "6cb86bd243d3f252",
   "execution_count": 1
  },
  {
   "cell_type": "code",
   "outputs": [],
   "source": [
    "def run_command(path):\n",
    "    # print(f\"Начинается обработка файла {path}...\")\n",
    "    try:\n",
    "        subprocess.run(['python', '-m', 'retro.scripts.playback_movie', path], timeout=20)\n",
    "        # print(f\"Обработка файла {path} завершена.\")\n",
    "    except subprocess.TimeoutExpired:\n",
    "        pass\n",
    "        # print(f\"Обработка файла {path} превысила установленное время.\")"
   ],
   "metadata": {
    "collapsed": false,
    "ExecuteTime": {
     "end_time": "2024-05-02T05:08:27.375603Z",
     "start_time": "2024-05-02T05:08:27.361095Z"
    }
   },
   "id": "b028d11c09d2f073",
   "execution_count": 2
  },
  {
   "cell_type": "code",
   "outputs": [],
   "source": [
    "# Замените на путь к вашей папке\n",
    "directory = 'E:\\GitHub\\RL-Sonic-Hedgehog\\sonic\\\\record_ddqn'"
   ],
   "metadata": {
    "collapsed": false,
    "ExecuteTime": {
     "end_time": "2024-05-02T05:08:27.391506Z",
     "start_time": "2024-05-02T05:08:27.376688Z"
    }
   },
   "id": "90d2d858f6be631",
   "execution_count": 3
  },
  {
   "cell_type": "code",
   "outputs": [],
   "source": [
    "# Получаем список всех файлов .bk2\n",
    "files = [os.path.join(directory, f) for f in os.listdir(directory) if f.endswith('.bk2')]"
   ],
   "metadata": {
    "collapsed": false,
    "ExecuteTime": {
     "end_time": "2024-05-02T05:08:27.798225Z",
     "start_time": "2024-05-02T05:08:27.737126Z"
    }
   },
   "id": "ed76f12a37a8d197",
   "execution_count": 4
  },
  {
   "cell_type": "code",
   "outputs": [
    {
     "name": "stderr",
     "output_type": "stream",
     "text": [
      "  1%|          | 172/20608 [02:36<5:10:51,  1.10it/s] \n"
     ]
    },
    {
     "ename": "OSError",
     "evalue": "[WinError 1450] Недостаточно системных ресурсов для завершения операции",
     "output_type": "error",
     "traceback": [
      "\u001B[1;31m---------------------------------------------------------------------------\u001B[0m",
      "\u001B[1;31mOSError\u001B[0m                                   Traceback (most recent call last)",
      "\u001B[1;32m~\\AppData\\Local\\Temp\\ipykernel_16316\\3924644595.py\u001B[0m in \u001B[0;36m<module>\u001B[1;34m\u001B[0m\n\u001B[0;32m      1\u001B[0m \u001B[1;31m# Запускаем команду для каждого файла\u001B[0m\u001B[1;33m\u001B[0m\u001B[1;33m\u001B[0m\u001B[1;33m\u001B[0m\u001B[0m\n\u001B[0;32m      2\u001B[0m \u001B[1;32mwith\u001B[0m \u001B[0mThreadPoolExecutor\u001B[0m\u001B[1;33m(\u001B[0m\u001B[0mmax_workers\u001B[0m\u001B[1;33m=\u001B[0m\u001B[1;36m20\u001B[0m\u001B[1;33m)\u001B[0m \u001B[1;32mas\u001B[0m \u001B[0mexecutor\u001B[0m\u001B[1;33m:\u001B[0m\u001B[1;33m\u001B[0m\u001B[1;33m\u001B[0m\u001B[0m\n\u001B[1;32m----> 3\u001B[1;33m     \u001B[0mlist\u001B[0m\u001B[1;33m(\u001B[0m\u001B[0mtqdm\u001B[0m\u001B[1;33m(\u001B[0m\u001B[0mexecutor\u001B[0m\u001B[1;33m.\u001B[0m\u001B[0mmap\u001B[0m\u001B[1;33m(\u001B[0m\u001B[0mrun_command\u001B[0m\u001B[1;33m,\u001B[0m \u001B[0mfiles\u001B[0m\u001B[1;33m)\u001B[0m\u001B[1;33m,\u001B[0m \u001B[0mtotal\u001B[0m\u001B[1;33m=\u001B[0m\u001B[0mlen\u001B[0m\u001B[1;33m(\u001B[0m\u001B[0mfiles\u001B[0m\u001B[1;33m)\u001B[0m\u001B[1;33m)\u001B[0m\u001B[1;33m)\u001B[0m\u001B[1;33m\u001B[0m\u001B[1;33m\u001B[0m\u001B[0m\n\u001B[0m",
      "\u001B[1;32m~\\anaconda3\\envs\\RL-conda\\lib\\site-packages\\tqdm\\std.py\u001B[0m in \u001B[0;36m__iter__\u001B[1;34m(self)\u001B[0m\n\u001B[0;32m   1193\u001B[0m \u001B[1;33m\u001B[0m\u001B[0m\n\u001B[0;32m   1194\u001B[0m         \u001B[1;32mtry\u001B[0m\u001B[1;33m:\u001B[0m\u001B[1;33m\u001B[0m\u001B[1;33m\u001B[0m\u001B[0m\n\u001B[1;32m-> 1195\u001B[1;33m             \u001B[1;32mfor\u001B[0m \u001B[0mobj\u001B[0m \u001B[1;32min\u001B[0m \u001B[0miterable\u001B[0m\u001B[1;33m:\u001B[0m\u001B[1;33m\u001B[0m\u001B[1;33m\u001B[0m\u001B[0m\n\u001B[0m\u001B[0;32m   1196\u001B[0m                 \u001B[1;32myield\u001B[0m \u001B[0mobj\u001B[0m\u001B[1;33m\u001B[0m\u001B[1;33m\u001B[0m\u001B[0m\n\u001B[0;32m   1197\u001B[0m                 \u001B[1;31m# Update and possibly print the progressbar.\u001B[0m\u001B[1;33m\u001B[0m\u001B[1;33m\u001B[0m\u001B[1;33m\u001B[0m\u001B[0m\n",
      "\u001B[1;32m~\\anaconda3\\envs\\RL-conda\\lib\\concurrent\\futures\\_base.py\u001B[0m in \u001B[0;36mresult_iterator\u001B[1;34m()\u001B[0m\n\u001B[0;32m    596\u001B[0m                     \u001B[1;31m# Careful not to keep a reference to the popped future\u001B[0m\u001B[1;33m\u001B[0m\u001B[1;33m\u001B[0m\u001B[1;33m\u001B[0m\u001B[0m\n\u001B[0;32m    597\u001B[0m                     \u001B[1;32mif\u001B[0m \u001B[0mtimeout\u001B[0m \u001B[1;32mis\u001B[0m \u001B[1;32mNone\u001B[0m\u001B[1;33m:\u001B[0m\u001B[1;33m\u001B[0m\u001B[1;33m\u001B[0m\u001B[0m\n\u001B[1;32m--> 598\u001B[1;33m                         \u001B[1;32myield\u001B[0m \u001B[0mfs\u001B[0m\u001B[1;33m.\u001B[0m\u001B[0mpop\u001B[0m\u001B[1;33m(\u001B[0m\u001B[1;33m)\u001B[0m\u001B[1;33m.\u001B[0m\u001B[0mresult\u001B[0m\u001B[1;33m(\u001B[0m\u001B[1;33m)\u001B[0m\u001B[1;33m\u001B[0m\u001B[1;33m\u001B[0m\u001B[0m\n\u001B[0m\u001B[0;32m    599\u001B[0m                     \u001B[1;32melse\u001B[0m\u001B[1;33m:\u001B[0m\u001B[1;33m\u001B[0m\u001B[1;33m\u001B[0m\u001B[0m\n\u001B[0;32m    600\u001B[0m                         \u001B[1;32myield\u001B[0m \u001B[0mfs\u001B[0m\u001B[1;33m.\u001B[0m\u001B[0mpop\u001B[0m\u001B[1;33m(\u001B[0m\u001B[1;33m)\u001B[0m\u001B[1;33m.\u001B[0m\u001B[0mresult\u001B[0m\u001B[1;33m(\u001B[0m\u001B[0mend_time\u001B[0m \u001B[1;33m-\u001B[0m \u001B[0mtime\u001B[0m\u001B[1;33m.\u001B[0m\u001B[0mmonotonic\u001B[0m\u001B[1;33m(\u001B[0m\u001B[1;33m)\u001B[0m\u001B[1;33m)\u001B[0m\u001B[1;33m\u001B[0m\u001B[1;33m\u001B[0m\u001B[0m\n",
      "\u001B[1;32m~\\anaconda3\\envs\\RL-conda\\lib\\concurrent\\futures\\_base.py\u001B[0m in \u001B[0;36mresult\u001B[1;34m(self, timeout)\u001B[0m\n\u001B[0;32m    426\u001B[0m                 \u001B[1;32mraise\u001B[0m \u001B[0mCancelledError\u001B[0m\u001B[1;33m(\u001B[0m\u001B[1;33m)\u001B[0m\u001B[1;33m\u001B[0m\u001B[1;33m\u001B[0m\u001B[0m\n\u001B[0;32m    427\u001B[0m             \u001B[1;32melif\u001B[0m \u001B[0mself\u001B[0m\u001B[1;33m.\u001B[0m\u001B[0m_state\u001B[0m \u001B[1;33m==\u001B[0m \u001B[0mFINISHED\u001B[0m\u001B[1;33m:\u001B[0m\u001B[1;33m\u001B[0m\u001B[1;33m\u001B[0m\u001B[0m\n\u001B[1;32m--> 428\u001B[1;33m                 \u001B[1;32mreturn\u001B[0m \u001B[0mself\u001B[0m\u001B[1;33m.\u001B[0m\u001B[0m__get_result\u001B[0m\u001B[1;33m(\u001B[0m\u001B[1;33m)\u001B[0m\u001B[1;33m\u001B[0m\u001B[1;33m\u001B[0m\u001B[0m\n\u001B[0m\u001B[0;32m    429\u001B[0m \u001B[1;33m\u001B[0m\u001B[0m\n\u001B[0;32m    430\u001B[0m             \u001B[0mself\u001B[0m\u001B[1;33m.\u001B[0m\u001B[0m_condition\u001B[0m\u001B[1;33m.\u001B[0m\u001B[0mwait\u001B[0m\u001B[1;33m(\u001B[0m\u001B[0mtimeout\u001B[0m\u001B[1;33m)\u001B[0m\u001B[1;33m\u001B[0m\u001B[1;33m\u001B[0m\u001B[0m\n",
      "\u001B[1;32m~\\anaconda3\\envs\\RL-conda\\lib\\concurrent\\futures\\_base.py\u001B[0m in \u001B[0;36m__get_result\u001B[1;34m(self)\u001B[0m\n\u001B[0;32m    382\u001B[0m     \u001B[1;32mdef\u001B[0m \u001B[0m__get_result\u001B[0m\u001B[1;33m(\u001B[0m\u001B[0mself\u001B[0m\u001B[1;33m)\u001B[0m\u001B[1;33m:\u001B[0m\u001B[1;33m\u001B[0m\u001B[1;33m\u001B[0m\u001B[0m\n\u001B[0;32m    383\u001B[0m         \u001B[1;32mif\u001B[0m \u001B[0mself\u001B[0m\u001B[1;33m.\u001B[0m\u001B[0m_exception\u001B[0m\u001B[1;33m:\u001B[0m\u001B[1;33m\u001B[0m\u001B[1;33m\u001B[0m\u001B[0m\n\u001B[1;32m--> 384\u001B[1;33m             \u001B[1;32mraise\u001B[0m \u001B[0mself\u001B[0m\u001B[1;33m.\u001B[0m\u001B[0m_exception\u001B[0m\u001B[1;33m\u001B[0m\u001B[1;33m\u001B[0m\u001B[0m\n\u001B[0m\u001B[0;32m    385\u001B[0m         \u001B[1;32melse\u001B[0m\u001B[1;33m:\u001B[0m\u001B[1;33m\u001B[0m\u001B[1;33m\u001B[0m\u001B[0m\n\u001B[0;32m    386\u001B[0m             \u001B[1;32mreturn\u001B[0m \u001B[0mself\u001B[0m\u001B[1;33m.\u001B[0m\u001B[0m_result\u001B[0m\u001B[1;33m\u001B[0m\u001B[1;33m\u001B[0m\u001B[0m\n",
      "\u001B[1;32m~\\anaconda3\\envs\\RL-conda\\lib\\concurrent\\futures\\thread.py\u001B[0m in \u001B[0;36mrun\u001B[1;34m(self)\u001B[0m\n\u001B[0;32m     55\u001B[0m \u001B[1;33m\u001B[0m\u001B[0m\n\u001B[0;32m     56\u001B[0m         \u001B[1;32mtry\u001B[0m\u001B[1;33m:\u001B[0m\u001B[1;33m\u001B[0m\u001B[1;33m\u001B[0m\u001B[0m\n\u001B[1;32m---> 57\u001B[1;33m             \u001B[0mresult\u001B[0m \u001B[1;33m=\u001B[0m \u001B[0mself\u001B[0m\u001B[1;33m.\u001B[0m\u001B[0mfn\u001B[0m\u001B[1;33m(\u001B[0m\u001B[1;33m*\u001B[0m\u001B[0mself\u001B[0m\u001B[1;33m.\u001B[0m\u001B[0margs\u001B[0m\u001B[1;33m,\u001B[0m \u001B[1;33m**\u001B[0m\u001B[0mself\u001B[0m\u001B[1;33m.\u001B[0m\u001B[0mkwargs\u001B[0m\u001B[1;33m)\u001B[0m\u001B[1;33m\u001B[0m\u001B[1;33m\u001B[0m\u001B[0m\n\u001B[0m\u001B[0;32m     58\u001B[0m         \u001B[1;32mexcept\u001B[0m \u001B[0mBaseException\u001B[0m \u001B[1;32mas\u001B[0m \u001B[0mexc\u001B[0m\u001B[1;33m:\u001B[0m\u001B[1;33m\u001B[0m\u001B[1;33m\u001B[0m\u001B[0m\n\u001B[0;32m     59\u001B[0m             \u001B[0mself\u001B[0m\u001B[1;33m.\u001B[0m\u001B[0mfuture\u001B[0m\u001B[1;33m.\u001B[0m\u001B[0mset_exception\u001B[0m\u001B[1;33m(\u001B[0m\u001B[0mexc\u001B[0m\u001B[1;33m)\u001B[0m\u001B[1;33m\u001B[0m\u001B[1;33m\u001B[0m\u001B[0m\n",
      "\u001B[1;32m~\\AppData\\Local\\Temp\\ipykernel_16316\\2615038052.py\u001B[0m in \u001B[0;36mrun_command\u001B[1;34m(path)\u001B[0m\n\u001B[0;32m      2\u001B[0m     \u001B[1;31m# print(f\"Начинается обработка файла {path}...\")\u001B[0m\u001B[1;33m\u001B[0m\u001B[1;33m\u001B[0m\u001B[1;33m\u001B[0m\u001B[0m\n\u001B[0;32m      3\u001B[0m     \u001B[1;32mtry\u001B[0m\u001B[1;33m:\u001B[0m\u001B[1;33m\u001B[0m\u001B[1;33m\u001B[0m\u001B[0m\n\u001B[1;32m----> 4\u001B[1;33m         \u001B[0msubprocess\u001B[0m\u001B[1;33m.\u001B[0m\u001B[0mrun\u001B[0m\u001B[1;33m(\u001B[0m\u001B[1;33m[\u001B[0m\u001B[1;34m'python'\u001B[0m\u001B[1;33m,\u001B[0m \u001B[1;34m'-m'\u001B[0m\u001B[1;33m,\u001B[0m \u001B[1;34m'retro.scripts.playback_movie'\u001B[0m\u001B[1;33m,\u001B[0m \u001B[0mpath\u001B[0m\u001B[1;33m]\u001B[0m\u001B[1;33m,\u001B[0m \u001B[0mtimeout\u001B[0m\u001B[1;33m=\u001B[0m\u001B[1;36m20\u001B[0m\u001B[1;33m)\u001B[0m\u001B[1;33m\u001B[0m\u001B[1;33m\u001B[0m\u001B[0m\n\u001B[0m\u001B[0;32m      5\u001B[0m         \u001B[1;31m# print(f\"Обработка файла {path} завершена.\")\u001B[0m\u001B[1;33m\u001B[0m\u001B[1;33m\u001B[0m\u001B[1;33m\u001B[0m\u001B[0m\n\u001B[0;32m      6\u001B[0m     \u001B[1;32mexcept\u001B[0m \u001B[0msubprocess\u001B[0m\u001B[1;33m.\u001B[0m\u001B[0mTimeoutExpired\u001B[0m\u001B[1;33m:\u001B[0m\u001B[1;33m\u001B[0m\u001B[1;33m\u001B[0m\u001B[0m\n",
      "\u001B[1;32m~\\anaconda3\\envs\\RL-conda\\lib\\subprocess.py\u001B[0m in \u001B[0;36mrun\u001B[1;34m(input, capture_output, timeout, check, *popenargs, **kwargs)\u001B[0m\n\u001B[0;32m    486\u001B[0m         \u001B[0mkwargs\u001B[0m\u001B[1;33m[\u001B[0m\u001B[1;34m'stderr'\u001B[0m\u001B[1;33m]\u001B[0m \u001B[1;33m=\u001B[0m \u001B[0mPIPE\u001B[0m\u001B[1;33m\u001B[0m\u001B[1;33m\u001B[0m\u001B[0m\n\u001B[0;32m    487\u001B[0m \u001B[1;33m\u001B[0m\u001B[0m\n\u001B[1;32m--> 488\u001B[1;33m     \u001B[1;32mwith\u001B[0m \u001B[0mPopen\u001B[0m\u001B[1;33m(\u001B[0m\u001B[1;33m*\u001B[0m\u001B[0mpopenargs\u001B[0m\u001B[1;33m,\u001B[0m \u001B[1;33m**\u001B[0m\u001B[0mkwargs\u001B[0m\u001B[1;33m)\u001B[0m \u001B[1;32mas\u001B[0m \u001B[0mprocess\u001B[0m\u001B[1;33m:\u001B[0m\u001B[1;33m\u001B[0m\u001B[1;33m\u001B[0m\u001B[0m\n\u001B[0m\u001B[0;32m    489\u001B[0m         \u001B[1;32mtry\u001B[0m\u001B[1;33m:\u001B[0m\u001B[1;33m\u001B[0m\u001B[1;33m\u001B[0m\u001B[0m\n\u001B[0;32m    490\u001B[0m             \u001B[0mstdout\u001B[0m\u001B[1;33m,\u001B[0m \u001B[0mstderr\u001B[0m \u001B[1;33m=\u001B[0m \u001B[0mprocess\u001B[0m\u001B[1;33m.\u001B[0m\u001B[0mcommunicate\u001B[0m\u001B[1;33m(\u001B[0m\u001B[0minput\u001B[0m\u001B[1;33m,\u001B[0m \u001B[0mtimeout\u001B[0m\u001B[1;33m=\u001B[0m\u001B[0mtimeout\u001B[0m\u001B[1;33m)\u001B[0m\u001B[1;33m\u001B[0m\u001B[1;33m\u001B[0m\u001B[0m\n",
      "\u001B[1;32m~\\anaconda3\\envs\\RL-conda\\lib\\subprocess.py\u001B[0m in \u001B[0;36m__init__\u001B[1;34m(self, args, bufsize, executable, stdin, stdout, stderr, preexec_fn, close_fds, shell, cwd, env, universal_newlines, startupinfo, creationflags, restore_signals, start_new_session, pass_fds, encoding, errors, text)\u001B[0m\n\u001B[0;32m    798\u001B[0m                                 \u001B[0mc2pread\u001B[0m\u001B[1;33m,\u001B[0m \u001B[0mc2pwrite\u001B[0m\u001B[1;33m,\u001B[0m\u001B[1;33m\u001B[0m\u001B[1;33m\u001B[0m\u001B[0m\n\u001B[0;32m    799\u001B[0m                                 \u001B[0merrread\u001B[0m\u001B[1;33m,\u001B[0m \u001B[0merrwrite\u001B[0m\u001B[1;33m,\u001B[0m\u001B[1;33m\u001B[0m\u001B[1;33m\u001B[0m\u001B[0m\n\u001B[1;32m--> 800\u001B[1;33m                                 restore_signals, start_new_session)\n\u001B[0m\u001B[0;32m    801\u001B[0m         \u001B[1;32mexcept\u001B[0m\u001B[1;33m:\u001B[0m\u001B[1;33m\u001B[0m\u001B[1;33m\u001B[0m\u001B[0m\n\u001B[0;32m    802\u001B[0m             \u001B[1;31m# Cleanup if the child failed starting.\u001B[0m\u001B[1;33m\u001B[0m\u001B[1;33m\u001B[0m\u001B[1;33m\u001B[0m\u001B[0m\n",
      "\u001B[1;32m~\\anaconda3\\envs\\RL-conda\\lib\\subprocess.py\u001B[0m in \u001B[0;36m_execute_child\u001B[1;34m(self, args, executable, preexec_fn, close_fds, pass_fds, cwd, env, startupinfo, creationflags, shell, p2cread, p2cwrite, c2pread, c2pwrite, errread, errwrite, unused_restore_signals, unused_start_new_session)\u001B[0m\n\u001B[0;32m   1205\u001B[0m                                          \u001B[0menv\u001B[0m\u001B[1;33m,\u001B[0m\u001B[1;33m\u001B[0m\u001B[1;33m\u001B[0m\u001B[0m\n\u001B[0;32m   1206\u001B[0m                                          \u001B[0mos\u001B[0m\u001B[1;33m.\u001B[0m\u001B[0mfspath\u001B[0m\u001B[1;33m(\u001B[0m\u001B[0mcwd\u001B[0m\u001B[1;33m)\u001B[0m \u001B[1;32mif\u001B[0m \u001B[0mcwd\u001B[0m \u001B[1;32mis\u001B[0m \u001B[1;32mnot\u001B[0m \u001B[1;32mNone\u001B[0m \u001B[1;32melse\u001B[0m \u001B[1;32mNone\u001B[0m\u001B[1;33m,\u001B[0m\u001B[1;33m\u001B[0m\u001B[1;33m\u001B[0m\u001B[0m\n\u001B[1;32m-> 1207\u001B[1;33m                                          startupinfo)\n\u001B[0m\u001B[0;32m   1208\u001B[0m             \u001B[1;32mfinally\u001B[0m\u001B[1;33m:\u001B[0m\u001B[1;33m\u001B[0m\u001B[1;33m\u001B[0m\u001B[0m\n\u001B[0;32m   1209\u001B[0m                 \u001B[1;31m# Child is launched. Close the parent's copy of those pipe\u001B[0m\u001B[1;33m\u001B[0m\u001B[1;33m\u001B[0m\u001B[1;33m\u001B[0m\u001B[0m\n",
      "\u001B[1;31mOSError\u001B[0m: [WinError 1450] Недостаточно системных ресурсов для завершения операции"
     ]
    }
   ],
   "source": [
    "# Запускаем команду для каждого файла\n",
    "with ThreadPoolExecutor(max_workers=10) as executor:\n",
    "    list(tqdm(executor.map(run_command, files), total=len(files)))"
   ],
   "metadata": {
    "collapsed": false,
    "ExecuteTime": {
     "end_time": "2024-05-02T05:11:30.808451Z",
     "start_time": "2024-05-02T05:08:30.628783Z"
    }
   },
   "id": "ca43efc2e5402aae",
   "execution_count": 5
  },
  {
   "cell_type": "code",
   "outputs": [],
   "source": [
    "# Перемещаем все файлы .mp4 в папку video\n",
    "mp4_files = [f for f in os.listdir(directory) if f.endswith('.mp4')]\n",
    "for file in mp4_files:\n",
    "    old_path = os.path.join(directory, file)\n",
    "    new_path = os.path.join(directory, 'video', file)\n",
    "    os.rename(old_path, new_path)\n"
   ],
   "metadata": {
    "collapsed": false
   },
   "id": "e55f9d3aa61ae52a"
  },
  {
   "cell_type": "markdown",
   "source": [
    "Третий вариант"
   ],
   "metadata": {
    "collapsed": false
   },
   "id": "5e6f785c963ab12"
  },
  {
   "cell_type": "code",
   "outputs": [],
   "source": [
    "import os\n",
    "import subprocess\n",
    "from concurrent.futures import ThreadPoolExecutor\n",
    "from tqdm import tqdm\n",
    "import numpy as np"
   ],
   "metadata": {
    "collapsed": false,
    "ExecuteTime": {
     "end_time": "2024-05-02T19:07:12.558802Z",
     "start_time": "2024-05-02T19:07:12.486167Z"
    }
   },
   "id": "ee0ccc5d7be2e68d",
   "execution_count": 1
  },
  {
   "cell_type": "code",
   "outputs": [],
   "source": [
    "def run_command(path):\n",
    "    try:\n",
    "        subprocess.run(['python', '-m', 'retro.scripts.playback_movie', path], timeout=20)\n",
    "    except subprocess.TimeoutExpired:\n",
    "        pass"
   ],
   "metadata": {
    "collapsed": false,
    "ExecuteTime": {
     "end_time": "2024-05-02T18:58:49.410005Z",
     "start_time": "2024-05-02T18:58:49.402486Z"
    }
   },
   "id": "9a89e81d0101c282",
   "execution_count": 6
  },
  {
   "cell_type": "code",
   "outputs": [],
   "source": [
    "def get_top(path_scores, path_record, top=None):\n",
    "    # Замените на путь к вашей папке\n",
    "    directory = path_record\n",
    "\n",
    "    if top is None:\n",
    "        files = [os.path.join(directory, f) for f in os.listdir(directory) if f.endswith('.bk2')]\n",
    "    else:\n",
    "        # Загрузка файла\n",
    "        data = np.load(path_scores)\n",
    "\n",
    "        # топ 100\n",
    "        top_100 = np.partition(data, -top)[-top:]\n",
    "        # индексы топа 10\n",
    "        top_100_index = np.argpartition(data, -top)[-top:]\n",
    "\n",
    "        # Создаем словарь\n",
    "        top_dict = {index: value for index, value in zip(top_100_index, top_100)}\n",
    "\n",
    "        # Сортируем словарь по значениям\n",
    "        sorted_dict = dict(sorted(top_dict.items(), key=lambda item: item[1], reverse=True))\n",
    "\n",
    "        # Получаем список всех файлов .bk2\n",
    "        files = [os.path.join(directory, f) for f in os.listdir(directory) if f.endswith('.bk2')]\n",
    "\n",
    "        # Отфильтровываем список файлов, чтобы оставить только те, которые указаны в словаре sorted_dict\n",
    "        files = [f for f in files if int(os.path.splitext(os.path.basename(f))[0].split('-')[-1]) in sorted_dict.keys()]\n",
    "\n",
    "    return files"
   ],
   "metadata": {
    "collapsed": false,
    "ExecuteTime": {
     "end_time": "2024-05-02T19:07:15.997401Z",
     "start_time": "2024-05-02T19:07:15.988396Z"
    }
   },
   "id": "ff75a2a1a27b3b1c",
   "execution_count": 2
  },
  {
   "cell_type": "code",
   "outputs": [],
   "source": [
    "path_scores = 'E:\\GitHub\\RL-Sonic-Hedgehog\\sonic\\checkpoints\\ddqn\\scores\\scores_dqn20600.npy'\n",
    "path_record = 'E:\\GitHub\\RL-Sonic-Hedgehog\\sonic\\\\record_ddqn'\n",
    "\n",
    "files = get_top(path_scores, path_record, top=100)"
   ],
   "metadata": {
    "collapsed": false,
    "ExecuteTime": {
     "end_time": "2024-05-02T19:07:18.458373Z",
     "start_time": "2024-05-02T19:07:18.285223Z"
    }
   },
   "id": "e288d664bf87b4fc",
   "execution_count": 3
  },
  {
   "cell_type": "code",
   "outputs": [
    {
     "data": {
      "text/plain": "100"
     },
     "execution_count": 4,
     "metadata": {},
     "output_type": "execute_result"
    }
   ],
   "source": [
    "len(files)"
   ],
   "metadata": {
    "collapsed": false,
    "ExecuteTime": {
     "end_time": "2024-05-02T19:07:20.484890Z",
     "start_time": "2024-05-02T19:07:20.474889Z"
    }
   },
   "id": "8ff508d865514bab",
   "execution_count": 4
  },
  {
   "cell_type": "code",
   "outputs": [
    {
     "name": "stderr",
     "output_type": "stream",
     "text": [
      "100%|██████████| 100/100 [02:52<00:00,  1.73s/it]\n"
     ]
    }
   ],
   "source": [
    "# Запускаем команду для каждого файла\n",
    "with ThreadPoolExecutor(max_workers=10) as executor:\n",
    "    list(tqdm(executor.map(run_command, files), total=len(files)))"
   ],
   "metadata": {
    "collapsed": false,
    "ExecuteTime": {
     "end_time": "2024-05-02T19:02:14.436777Z",
     "start_time": "2024-05-02T18:59:21.534448Z"
    }
   },
   "id": "a4f0d9ccac6ff958",
   "execution_count": 11
  },
  {
   "cell_type": "code",
   "outputs": [
    {
     "name": "stderr",
     "output_type": "stream",
     "text": [
      "  0%|          | 0/96 [00:00<?, ?it/s]\n"
     ]
    },
    {
     "ename": "PermissionError",
     "evalue": "[WinError 32] Процесс не может получить доступ к файлу, так как этот файл занят другим процессом: 'E:\\\\GitHub\\\\RL-Sonic-Hedgehog\\\\sonic\\\\record_ddqn\\\\SonicTheHedgehog-Genesis-GreenHillZone.Act1-015315.mp4' -> 'E:\\\\GitHub\\\\RL-Sonic-Hedgehog\\\\sonic\\\\record_ddqn\\\\video\\\\SonicTheHedgehog-Genesis-GreenHillZone.Act1-015315.mp4'",
     "output_type": "error",
     "traceback": [
      "\u001B[1;31m---------------------------------------------------------------------------\u001B[0m",
      "\u001B[1;31mPermissionError\u001B[0m                           Traceback (most recent call last)",
      "\u001B[1;32m~\\AppData\\Local\\Temp\\ipykernel_38680\\3329712193.py\u001B[0m in \u001B[0;36m<module>\u001B[1;34m\u001B[0m\n\u001B[0;32m      4\u001B[0m     \u001B[0mold_path\u001B[0m \u001B[1;33m=\u001B[0m \u001B[0mos\u001B[0m\u001B[1;33m.\u001B[0m\u001B[0mpath\u001B[0m\u001B[1;33m.\u001B[0m\u001B[0mjoin\u001B[0m\u001B[1;33m(\u001B[0m\u001B[0mpath_record\u001B[0m\u001B[1;33m,\u001B[0m \u001B[0mfile\u001B[0m\u001B[1;33m)\u001B[0m\u001B[1;33m\u001B[0m\u001B[1;33m\u001B[0m\u001B[0m\n\u001B[0;32m      5\u001B[0m     \u001B[0mnew_path\u001B[0m \u001B[1;33m=\u001B[0m \u001B[0mos\u001B[0m\u001B[1;33m.\u001B[0m\u001B[0mpath\u001B[0m\u001B[1;33m.\u001B[0m\u001B[0mjoin\u001B[0m\u001B[1;33m(\u001B[0m\u001B[0mpath_record\u001B[0m\u001B[1;33m,\u001B[0m \u001B[1;34m'video'\u001B[0m\u001B[1;33m,\u001B[0m \u001B[0mfile\u001B[0m\u001B[1;33m)\u001B[0m\u001B[1;33m\u001B[0m\u001B[1;33m\u001B[0m\u001B[0m\n\u001B[1;32m----> 6\u001B[1;33m     \u001B[0mos\u001B[0m\u001B[1;33m.\u001B[0m\u001B[0mrename\u001B[0m\u001B[1;33m(\u001B[0m\u001B[0mold_path\u001B[0m\u001B[1;33m,\u001B[0m \u001B[0mnew_path\u001B[0m\u001B[1;33m)\u001B[0m\u001B[1;33m\u001B[0m\u001B[1;33m\u001B[0m\u001B[0m\n\u001B[0m\u001B[0;32m      7\u001B[0m \u001B[1;33m\u001B[0m\u001B[0m\n",
      "\u001B[1;31mPermissionError\u001B[0m: [WinError 32] Процесс не может получить доступ к файлу, так как этот файл занят другим процессом: 'E:\\\\GitHub\\\\RL-Sonic-Hedgehog\\\\sonic\\\\record_ddqn\\\\SonicTheHedgehog-Genesis-GreenHillZone.Act1-015315.mp4' -> 'E:\\\\GitHub\\\\RL-Sonic-Hedgehog\\\\sonic\\\\record_ddqn\\\\video\\\\SonicTheHedgehog-Genesis-GreenHillZone.Act1-015315.mp4'"
     ]
    }
   ],
   "source": [
    "# Перемещаем все файлы .mp4 в папку video\n",
    "mp4_files = [f for f in os.listdir(path_record) if f.endswith('.mp4')]\n",
    "for file in tqdm(mp4_files):\n",
    "    old_path = os.path.join(path_record, file)\n",
    "    new_path = os.path.join(path_record, 'video', file)\n",
    "    os.rename(old_path, new_path)\n"
   ],
   "metadata": {
    "collapsed": false,
    "ExecuteTime": {
     "end_time": "2024-05-02T19:07:27.932333Z",
     "start_time": "2024-05-02T19:07:27.873657Z"
    }
   },
   "id": "87e27ce4caa044f",
   "execution_count": 5
  },
  {
   "cell_type": "code",
   "outputs": [],
   "source": [],
   "metadata": {
    "collapsed": false,
    "ExecuteTime": {
     "end_time": "2024-05-02T19:05:18.807280Z",
     "start_time": "2024-05-02T19:05:18.797953Z"
    }
   },
   "id": "34f2456125cb6d0",
   "execution_count": 16
  },
  {
   "cell_type": "code",
   "outputs": [],
   "source": [],
   "metadata": {
    "collapsed": false
   },
   "id": "b5f15fe503a0f414"
  }
 ],
 "metadata": {
  "kernelspec": {
   "display_name": "Python 3",
   "language": "python",
   "name": "python3"
  },
  "language_info": {
   "codemirror_mode": {
    "name": "ipython",
    "version": 2
   },
   "file_extension": ".py",
   "mimetype": "text/x-python",
   "name": "python",
   "nbconvert_exporter": "python",
   "pygments_lexer": "ipython2",
   "version": "2.7.6"
  }
 },
 "nbformat": 4,
 "nbformat_minor": 5
}
