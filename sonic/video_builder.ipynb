{
 "cells": [
  {
   "cell_type": "code",
   "outputs": [],
   "source": [
    "import os\n",
    "import subprocess\n",
    "from concurrent.futures import ThreadPoolExecutor\n",
    "from tqdm import tqdm\n",
    "import numpy as np"
   ],
   "metadata": {
    "collapsed": false,
    "ExecuteTime": {
     "end_time": "2024-05-04T02:06:03.966218Z",
     "start_time": "2024-05-04T02:06:03.948910Z"
    }
   },
   "id": "ee0ccc5d7be2e68d",
   "execution_count": 7
  },
  {
   "cell_type": "code",
   "outputs": [],
   "source": [
    "def run_command(path):\n",
    "    try:\n",
    "        subprocess.run(['python', '-m', 'retro.scripts.playback_movie', path], timeout=20)\n",
    "    except subprocess.TimeoutExpired:\n",
    "        pass"
   ],
   "metadata": {
    "collapsed": false,
    "ExecuteTime": {
     "end_time": "2024-05-04T02:06:04.245725Z",
     "start_time": "2024-05-04T02:06:04.230308Z"
    }
   },
   "id": "9a89e81d0101c282",
   "execution_count": 8
  },
  {
   "cell_type": "code",
   "outputs": [],
   "source": [
    "def get_top(path_scores, path_record, top=None):\n",
    "    # Замените на путь к вашей папке\n",
    "    directory = path_record\n",
    "\n",
    "    if top is None:\n",
    "        files = [os.path.join(directory, f) for f in os.listdir(directory) if f.endswith('.bk2')]\n",
    "    else:\n",
    "        # Загрузка файла\n",
    "        data = np.load(path_scores)\n",
    "\n",
    "        # топ 100\n",
    "        top_100 = np.partition(data, -top)[-top:]\n",
    "        # индексы топа 10\n",
    "        top_100_index = np.argpartition(data, -top)[-top:]\n",
    "\n",
    "        # Создаем словарь\n",
    "        top_dict = {index: value for index, value in zip(top_100_index, top_100)}\n",
    "\n",
    "        # Сортируем словарь по значениям\n",
    "        sorted_dict = dict(sorted(top_dict.items(), key=lambda item: item[1], reverse=True))\n",
    "\n",
    "        # Получаем список всех файлов .bk2\n",
    "        files = [os.path.join(directory, f) for f in os.listdir(directory) if f.endswith('.bk2')]\n",
    "\n",
    "        # Отфильтровываем список файлов, чтобы оставить только те, которые указаны в словаре sorted_dict\n",
    "        files = [f for f in files if int(os.path.splitext(os.path.basename(f))[0].split('-')[-1]) in sorted_dict.keys()]\n",
    "\n",
    "    return files"
   ],
   "metadata": {
    "collapsed": false,
    "ExecuteTime": {
     "end_time": "2024-05-04T02:06:04.778457Z",
     "start_time": "2024-05-04T02:06:04.758229Z"
    }
   },
   "id": "ff75a2a1a27b3b1c",
   "execution_count": 9
  },
  {
   "cell_type": "code",
   "outputs": [],
   "source": [
    "path_scores = 'E:\\GitHub\\RL-Sonic-Hedgehog\\sonic\\checkpoints\\ddqn\\scores\\scores_dqn20600.npy'\n",
    "path_record = 'E:\\GitHub\\RL-Sonic-Hedgehog\\sonic\\\\record_ddqn'\n",
    "\n",
    "files = get_top(path_scores, path_record, top=10)"
   ],
   "metadata": {
    "collapsed": false,
    "ExecuteTime": {
     "end_time": "2024-05-04T02:06:27.103744Z",
     "start_time": "2024-05-04T02:06:26.930532Z"
    }
   },
   "id": "e288d664bf87b4fc",
   "execution_count": 11
  },
  {
   "cell_type": "code",
   "outputs": [
    {
     "data": {
      "text/plain": "10"
     },
     "execution_count": 12,
     "metadata": {},
     "output_type": "execute_result"
    }
   ],
   "source": [
    "len(files)"
   ],
   "metadata": {
    "collapsed": false,
    "ExecuteTime": {
     "end_time": "2024-05-04T02:06:27.909968Z",
     "start_time": "2024-05-04T02:06:27.898178Z"
    }
   },
   "id": "8ff508d865514bab",
   "execution_count": 12
  },
  {
   "cell_type": "code",
   "outputs": [
    {
     "name": "stderr",
     "output_type": "stream",
     "text": [
      "100%|██████████| 10/10 [00:20<00:00,  2.00s/it]\n"
     ]
    }
   ],
   "source": [
    "# Запускаем команду для каждого файла\n",
    "with ThreadPoolExecutor(max_workers=10) as executor:\n",
    "    list(tqdm(executor.map(run_command, files), total=len(files)))"
   ],
   "metadata": {
    "collapsed": false,
    "ExecuteTime": {
     "end_time": "2024-05-04T02:06:48.991107Z",
     "start_time": "2024-05-04T02:06:28.931078Z"
    }
   },
   "id": "a4f0d9ccac6ff958",
   "execution_count": 13
  },
  {
   "cell_type": "markdown",
   "source": [
    "```bash\n",
    "move .\\sonic\\record_ddqn\\*.mp4 .\\sonic\\record_ddqn\\video\\\n",
    "```"
   ],
   "metadata": {
    "collapsed": false
   },
   "id": "158922f476a65dee"
  },
  {
   "cell_type": "code",
   "outputs": [],
   "source": [
    "# # Перемещаем все файлы .mp4 в папку video\n",
    "# mp4_files = [f for f in os.listdir(path_record) if f.endswith('.mp4')]\n",
    "# for file in tqdm(mp4_files):\n",
    "#     old_path = os.path.join(path_record, file)\n",
    "#     new_path = os.path.join(path_record, 'video', file)\n",
    "#     os.rename(old_path, new_path)\n"
   ],
   "metadata": {
    "collapsed": false,
    "ExecuteTime": {
     "end_time": "2024-05-04T02:07:27.401910Z",
     "start_time": "2024-05-04T02:07:27.387258Z"
    }
   },
   "id": "87e27ce4caa044f",
   "execution_count": 14
  },
  {
   "cell_type": "code",
   "outputs": [],
   "source": [],
   "metadata": {
    "collapsed": false
   },
   "id": "eaeeb00bc20867e1"
  }
 ],
 "metadata": {
  "kernelspec": {
   "display_name": "Python 3",
   "language": "python",
   "name": "python3"
  },
  "language_info": {
   "codemirror_mode": {
    "name": "ipython",
    "version": 2
   },
   "file_extension": ".py",
   "mimetype": "text/x-python",
   "name": "python",
   "nbconvert_exporter": "python",
   "pygments_lexer": "ipython2",
   "version": "2.7.6"
  }
 },
 "nbformat": 4,
 "nbformat_minor": 5
}
